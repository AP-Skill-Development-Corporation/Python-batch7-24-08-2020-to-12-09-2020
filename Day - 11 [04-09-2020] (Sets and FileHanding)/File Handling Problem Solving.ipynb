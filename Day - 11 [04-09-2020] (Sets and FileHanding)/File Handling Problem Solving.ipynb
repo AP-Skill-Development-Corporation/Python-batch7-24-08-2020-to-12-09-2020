{
 "cells": [
  {
   "cell_type": "code",
   "execution_count": 2,
   "metadata": {},
   "outputs": [
    {
     "data": {
      "text/plain": [
       "9.0"
      ]
     },
     "execution_count": 2,
     "metadata": {},
     "output_type": "execute_result"
    }
   ],
   "source": [
    "          # Problem Solving on File Handling #\n",
    "\n",
    "1. # Function to write data into file\n",
    "\n",
    "2. # Function which reads data from text file\n",
    "\n",
    "3. # Function which returns line count in text file\n",
    "\n",
    "4. # Function which returns no of words in a text file\n",
    "\n",
    "5. # Function which returns sum of numbers in a file\n",
    "\n",
    "6. # Function to Add User Details to input life.\n",
    "\n",
    "7. #Find the frequency of numbers b/w 0 to 9 in given list\n",
    "\n",
    "8. #Convert the given list to dictionary as given below\n",
    "   #input - [2,4,6,8,10]\n",
    "   #output - {2 : 4, 4 : 16, 6 : 36, 8 : 64, 10 : 100}\n",
    "\n",
    "9. #### Find the frequency of numbers b/w 0 to 9 in given list\n",
    "##### input - [9, 1, 3, 1, 7, 2, 1, 9, 8, 6, 5, 4, 1, 2, 3, 100, 99]\n",
    "\n",
    "##### output - {0 : 0, 1 : 4, 2 : 2, 3 : 2, 4 : 1, 5 : 1, 6 : 1, 7 : 1, 8 : 1, 9 : 2 }"
   ]
  },
  {
   "cell_type": "code",
   "execution_count": null,
   "metadata": {},
   "outputs": [],
   "source": []
  }
 ],
 "metadata": {
  "kernelspec": {
   "display_name": "Python 3",
   "language": "python",
   "name": "python3"
  },
  "language_info": {
   "codemirror_mode": {
    "name": "ipython",
    "version": 3
   },
   "file_extension": ".py",
   "mimetype": "text/x-python",
   "name": "python",
   "nbconvert_exporter": "python",
   "pygments_lexer": "ipython3",
   "version": "3.7.3"
  }
 },
 "nbformat": 4,
 "nbformat_minor": 2
}
