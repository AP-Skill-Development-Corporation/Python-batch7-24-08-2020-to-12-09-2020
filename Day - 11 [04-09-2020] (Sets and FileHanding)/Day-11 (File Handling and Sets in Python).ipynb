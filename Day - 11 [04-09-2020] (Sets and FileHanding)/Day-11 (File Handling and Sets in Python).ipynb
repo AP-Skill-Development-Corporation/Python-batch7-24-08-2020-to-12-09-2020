{
 "cells": [
  {
   "cell_type": "code",
   "execution_count": null,
   "metadata": {},
   "outputs": [],
   "source": [
    "# Day-11\n",
    "         #Agenda: \n",
    "                 1. File handling (continue)\n",
    "                 2. Sets in Python\n",
    "                 3. Problem Solving."
   ]
  },
  {
   "cell_type": "code",
   "execution_count": null,
   "metadata": {},
   "outputs": [],
   "source": [
    "# File :\n",
    " its named location on disk to store related information  in a permanent way.\n",
    "    \n",
    "    #File Handling???\n",
    "      - To Perform some operations on files is called File Handling.\n",
    " # why we use ???\n",
    "    - To store the Data in a permanent Way.\n",
    "    - To avoids time consuming.\n",
    "    - To overcome loss of data."
   ]
  },
  {
   "cell_type": "code",
   "execution_count": null,
   "metadata": {},
   "outputs": [],
   "source": [
    "#Types of files:\n",
    "1. Text files ( Deals with Text Data-strings)\n",
    "2. Binary files ( Deals with media files-mp3,source files,mp4,image files)\n",
    "\n",
    "examples of Text:\n",
    "    Web standards: html, xml,css,json\n",
    "    source code: c,js,.py\n",
    "    tabular data : csv,.xsl\n",
    "        \n",
    "examples of binary:\n",
    "    Documents : .pdf,.doc,\n",
    "        \n",
    "    image files: .png,.jpg\n",
    "                             video and audio .mp3,.mp4\n"
   ]
  },
  {
   "cell_type": "code",
   "execution_count": null,
   "metadata": {},
   "outputs": [],
   "source": [
    "#File Operations:\n",
    "For create or open a file we have to use open() predefined function.\n",
    "\n",
    "we have 4 types of Operations: \n",
    "     #operation           #Methods                               #Modes\n",
    "        \n",
    "    1. open--------     open(\"filename\",\"mode\")            \"x\"- creating the file\n",
    "    \n",
    "    2. read --------    read(), readline(),readlines()       \"r\"- for read the data\n",
    "    \n",
    "    3. write -----     write(),writelines()                 \"w\"  - for write contents to the file\n",
    "                                                             \n",
    "                                                            \"a\"  - for write data to old \n",
    "                                                                   file at the end\n",
    "    \n",
    "    4. close---------close()\n",
    "    \n",
    "    5. rename ---------rename()\n",
    "    \n",
    "    6. delete----------delete()"
   ]
  },
  {
   "cell_type": "code",
   "execution_count": 12,
   "metadata": {},
   "outputs": [],
   "source": [
    "#How to create files?\n",
    " #Syntax: open(\"filename\",mode\")\n",
    "#f= open(\"sample.txt\",\"x\")\n",
    "f = open(\"sample.txt\",\"w\")\n",
    "f.write(\"This is Sample File we just created\")\n",
    "f = open(\"sample.txt\",\"r\")\n",
    "f.read()\n",
    "f.close()"
   ]
  },
  {
   "cell_type": "code",
   "execution_count": 14,
   "metadata": {},
   "outputs": [
    {
     "name": "stdout",
     "output_type": "stream",
     "text": [
      "True\n",
      "r\n",
      "sample.txt\n"
     ]
    }
   ],
   "source": [
    "#File Artibutes:\n",
    "print(f.closed)\n",
    "print(f.mode)\n",
    "print(f.name)"
   ]
  },
  {
   "cell_type": "code",
   "execution_count": 15,
   "metadata": {},
   "outputs": [],
   "source": [
    "#close() with try-catch block\n",
    "try:\n",
    "    file = open(\"sample.txt\",\"r\")\n",
    "   #do file operations\n",
    "finally:\n",
    "    f.close()"
   ]
  },
  {
   "cell_type": "code",
   "execution_count": 40,
   "metadata": {},
   "outputs": [
    {
     "name": "stdout",
     "output_type": "stream",
     "text": [
      "Hello Good evening to All This is from Apssdc\n",
      "This is Online Python Programming\n",
      "Today we discussing about file Handing\n",
      "New line added by writelines\n",
      "End line of the life\n",
      "\n"
     ]
    }
   ],
   "source": [
    "#auto close using \"with\" keyword:\n",
    "with open(\"new.txt\",\"w\") as f:\n",
    "    f.write(\"Hello Good evening to All This is from Apssdc\\n\")\n",
    "    f.write(\"This is Online Python Programming\\n\")\n",
    "    f.write(\"Today we discussing about file Handing\\n\")\n",
    "    f.writelines([\"New line added by writelines\\n\",\"End line of the life\"])\n",
    "    \n",
    "with open(\"new.txt\",\"r\") as f:\n",
    "    #print(f.read(100))   #its reads first 5 characters\n",
    "    #print(f.readline())  # its reads data line by line\n",
    "    #print(f.readline())\n",
    "    ##print(f.readline())\n",
    "    #print(f.readline())\n",
    "    #print(f.readline())\n",
    "    #print(f.readline())\n",
    "    #print(f.readline())\n",
    "    #print(f.readlines())  #its reads data in form of list of lines\n",
    "    print(f.read())    # its reads entire data at once\n",
    "    print(f.read())"
   ]
  },
  {
   "cell_type": "code",
   "execution_count": null,
   "metadata": {},
   "outputs": [],
   "source": []
  },
  {
   "cell_type": "code",
   "execution_count": 59,
   "metadata": {},
   "outputs": [
    {
     "name": "stdout",
     "output_type": "stream",
     "text": [
      "This is new line added by apend mode\n",
      "Today we completed file handlingThank you to AllThis is new line added by apend mode\n",
      "Today we completed file handlingThank you to AllThis is new line added by apend mode\n",
      "Today we completed file handlingThank you to AllThis is new line added by apend mode\n",
      "Today we completed file handlingThank you to AllThis is new line added by apend mode\n",
      "Today we completed file handlingThank you to All\n"
     ]
    }
   ],
   "source": [
    "#apend operation:\n",
    "with open(\"new.txt\",\"a\") as p:\n",
    "    p.write(\"This is new line added by apend mode\\n\")\n",
    "    p.writelines([\"Today we completed file handling\",\"Thank you to All\"])\n",
    "with open(\"new.txt\",\"r\") as p:\n",
    "    print(p.read())"
   ]
  },
  {
   "cell_type": "code",
   "execution_count": 61,
   "metadata": {},
   "outputs": [
    {
     "data": {
      "text/plain": [
       "'C:\\\\Users\\\\Mission Impossible\\\\Desktop\\\\Python-Online Workshop Content\\\\Day-6 (Functions And Problem Solving) [29-08-2020]'"
      ]
     },
     "execution_count": 61,
     "metadata": {},
     "output_type": "execute_result"
    }
   ],
   "source": [
    "import os\n",
    "os.getcwd()"
   ]
  },
  {
   "cell_type": "code",
   "execution_count": 65,
   "metadata": {},
   "outputs": [],
   "source": [
    "#renaming a file\n",
    "os.rename(\"new.txt\",\"newfile.txt\")"
   ]
  },
  {
   "cell_type": "code",
   "execution_count": 70,
   "metadata": {},
   "outputs": [
    {
     "ename": "FileNotFoundError",
     "evalue": "[Errno 2] No such file or directory: 'newfile.txt'",
     "output_type": "error",
     "traceback": [
      "\u001b[1;31m---------------------------------------------------------------------------\u001b[0m",
      "\u001b[1;31mFileNotFoundError\u001b[0m                         Traceback (most recent call last)",
      "\u001b[1;32m<ipython-input-70-d74c33fb84fe>\u001b[0m in \u001b[0;36m<module>\u001b[1;34m\u001b[0m\n\u001b[1;32m----> 1\u001b[1;33m \u001b[1;32mwith\u001b[0m \u001b[0mopen\u001b[0m\u001b[1;33m(\u001b[0m\u001b[1;34m\"newfile.txt\"\u001b[0m\u001b[1;33m,\u001b[0m\u001b[1;34m\"r\"\u001b[0m\u001b[1;33m)\u001b[0m \u001b[1;32mas\u001b[0m \u001b[0mf\u001b[0m\u001b[1;33m:\u001b[0m\u001b[1;33m\u001b[0m\u001b[1;33m\u001b[0m\u001b[0m\n\u001b[0m\u001b[0;32m      2\u001b[0m     \u001b[0mprint\u001b[0m\u001b[1;33m(\u001b[0m\u001b[0mf\u001b[0m\u001b[1;33m.\u001b[0m\u001b[0mread\u001b[0m\u001b[1;33m(\u001b[0m\u001b[1;33m)\u001b[0m\u001b[1;33m)\u001b[0m\u001b[1;33m\u001b[0m\u001b[1;33m\u001b[0m\u001b[0m\n",
      "\u001b[1;31mFileNotFoundError\u001b[0m: [Errno 2] No such file or directory: 'newfile.txt'"
     ]
    }
   ],
   "source": [
    "with open(\"newfile.txt\",\"r\") as f:\n",
    "    print(f.read())"
   ]
  },
  {
   "cell_type": "code",
   "execution_count": 69,
   "metadata": {},
   "outputs": [],
   "source": [
    "#Delete a file\n",
    "os.remove(\"newfile.txt\")"
   ]
  },
  {
   "cell_type": "code",
   "execution_count": 85,
   "metadata": {},
   "outputs": [
    {
     "name": "stdout",
     "output_type": "stream",
     "text": [
      "5\n",
      "current position: 5\n",
      "current position: 0\n",
      "This is Sample File \n",
      "current position: 20\n",
      "we just created\n",
      "current position: 35\n"
     ]
    }
   ],
   "source": [
    "#tell() and seek() method():\n",
    "with open(\"sample.txt\",\"r\") as f:\n",
    "    #print(f.read())\n",
    "    print(len(f.read(5)))\n",
    "    position = f.tell()  #which tells the current position of cursor point\n",
    "    print(\"current position:\",position)\n",
    "    position = f.seek(0,0)  #which sets the cursor point at origin\n",
    "    print(\"current position:\",position)\n",
    "    print(f.read(20))\n",
    "    position = f.seek(0,1)  #which sets the cursor point at previous position\n",
    "    print(\"current position:\",position)\n",
    "    print(f.read())\n",
    "    position = f.seek(0,2)  #which sets the cursor point at the end of file.\n",
    "    print(\"current position:\",position)"
   ]
  },
  {
   "cell_type": "code",
   "execution_count": null,
   "metadata": {},
   "outputs": [],
   "source": [
    "#Sets in Python:\n",
    "# KeyPoints:\n",
    "    1. Its doest follow the ordering\n",
    "    2. Its having unique elements ( Not Allow duplication of Values)\n",
    "    3. Its Mutable itsself ( we can add or remove elements)\n",
    "    4. we cant perform indexing or slicing operation on sets\n",
    "    5. Its used to remove the duplicate values from the list and tuples."
   ]
  },
  {
   "cell_type": "code",
   "execution_count": 87,
   "metadata": {},
   "outputs": [
    {
     "name": "stdout",
     "output_type": "stream",
     "text": [
      "set()\n",
      "<class 'set'>\n"
     ]
    }
   ],
   "source": [
    "#How to create sets?\n",
    "# Create a empty sets\n",
    "s = set()   # empty set\n",
    "print(s)\n",
    "print(type(s))"
   ]
  },
  {
   "cell_type": "code",
   "execution_count": 90,
   "metadata": {},
   "outputs": [
    {
     "data": {
      "text/plain": [
       "set"
      ]
     },
     "execution_count": 90,
     "metadata": {},
     "output_type": "execute_result"
    }
   ],
   "source": [
    "s = {\"surya\",\"python\",\"aps\"}\n",
    "type(s)"
   ]
  },
  {
   "cell_type": "code",
   "execution_count": 97,
   "metadata": {},
   "outputs": [
    {
     "name": "stdout",
     "output_type": "stream",
     "text": [
      "10 python 50 20 60 abc "
     ]
    }
   ],
   "source": [
    "# Set with values\n",
    "s1 = {\"abc\",10,20,50,60,\"python\",50,10,\"python\"}\n",
    "for s in s1:\n",
    "    print(s,end=\" \")"
   ]
  },
  {
   "cell_type": "code",
   "execution_count": 125,
   "metadata": {},
   "outputs": [
    {
     "ename": "KeyError",
     "evalue": "'pop from an empty set'",
     "output_type": "error",
     "traceback": [
      "\u001b[1;31m---------------------------------------------------------------------------\u001b[0m",
      "\u001b[1;31mKeyError\u001b[0m                                  Traceback (most recent call last)",
      "\u001b[1;32m<ipython-input-125-934b3af68c33>\u001b[0m in \u001b[0;36m<module>\u001b[1;34m\u001b[0m\n\u001b[0;32m     18\u001b[0m \u001b[0ms1\u001b[0m\u001b[1;33m.\u001b[0m\u001b[0mpop\u001b[0m\u001b[1;33m(\u001b[0m\u001b[1;33m)\u001b[0m\u001b[1;33m\u001b[0m\u001b[1;33m\u001b[0m\u001b[0m\n\u001b[0;32m     19\u001b[0m \u001b[0ms1\u001b[0m\u001b[1;33m.\u001b[0m\u001b[0mpop\u001b[0m\u001b[1;33m(\u001b[0m\u001b[1;33m)\u001b[0m\u001b[1;33m\u001b[0m\u001b[1;33m\u001b[0m\u001b[0m\n\u001b[1;32m---> 20\u001b[1;33m \u001b[0ms1\u001b[0m\u001b[1;33m.\u001b[0m\u001b[0mpop\u001b[0m\u001b[1;33m(\u001b[0m\u001b[1;33m)\u001b[0m\u001b[1;33m\u001b[0m\u001b[1;33m\u001b[0m\u001b[0m\n\u001b[0m",
      "\u001b[1;31mKeyError\u001b[0m: 'pop from an empty set'"
     ]
    }
   ],
   "source": [
    "#add or remove elements:\n",
    "s1 = {\"abc\",10,20,50,60,\"python\",50,10,\"python\"}\n",
    "s1.add(5000)\n",
    "s1.add(\"xyz\")\n",
    "#s1.remove(50)\n",
    "#print(s1)\n",
    "#discard()\n",
    "#s1.discard(5000)\n",
    "#print(s1)\n",
    "#s1.discard(1000)\n",
    "#s1.add(500)\n",
    "s1.pop()\n",
    "s1.pop()\n",
    "s1.pop()\n",
    "s1.pop()\n",
    "s1.pop()\n",
    "s1.pop()\n",
    "s1.pop()\n",
    "s1.pop()\n",
    "s1.pop()"
   ]
  },
  {
   "cell_type": "code",
   "execution_count": 105,
   "metadata": {},
   "outputs": [
    {
     "name": "stdout",
     "output_type": "stream",
     "text": [
      "['__and__', '__class__', '__contains__', '__delattr__', '__dir__', '__doc__', '__eq__', '__format__', '__ge__', '__getattribute__', '__gt__', '__hash__', '__iand__', '__init__', '__init_subclass__', '__ior__', '__isub__', '__iter__', '__ixor__', '__le__', '__len__', '__lt__', '__ne__', '__new__', '__or__', '__rand__', '__reduce__', '__reduce_ex__', '__repr__', '__ror__', '__rsub__', '__rxor__', '__setattr__', '__sizeof__', '__str__', '__sub__', '__subclasshook__', '__xor__', 'add', 'clear', 'copy', 'difference', 'difference_update', 'discard', 'intersection', 'intersection_update', 'isdisjoint', 'issubset', 'issuperset', 'pop', 'remove', 'symmetric_difference', 'symmetric_difference_update', 'union', 'update']"
     ]
    }
   ],
   "source": [
    "#Set opeations or methods\n",
    "print(dir(set),end=\"\")"
   ]
  },
  {
   "cell_type": "code",
   "execution_count": 135,
   "metadata": {},
   "outputs": [
    {
     "name": "stdout",
     "output_type": "stream",
     "text": [
      "{80, 50, 100, 150, 40, 60, 45}\n",
      "{100, 40, 250, 45, 80, 50, 150, 90, 60}\n",
      "{100, 40, 250, 45, 80, 50, 150, 90, 60}\n",
      "{50, 45, 150}\n",
      "{50, 45, 150}\n"
     ]
    }
   ],
   "source": [
    "#copy,union,intersection,difference\n",
    "#copy\n",
    "s1 = {40,45,50,60,80,150,100}\n",
    "s2 = {45,50,90,150,250}\n",
    "s1=s1.copy()\n",
    "print(s1)\n",
    "#union operation\n",
    "print(s1|s2)  #union\n",
    "print(s1.union(s2))  #union\n",
    "#intersection\n",
    "print(s1&s2)\n",
    "print(s1.intersection(s2))"
   ]
  },
  {
   "cell_type": "code",
   "execution_count": 138,
   "metadata": {},
   "outputs": [
    {
     "name": "stdout",
     "output_type": "stream",
     "text": [
      "{40, 80, 100, 60}\n",
      "{40, 80, 100, 60}\n",
      "{90, 250}\n",
      "{100, 90, 40, 80, 250, 60}\n",
      "{100, 90, 40, 80, 250, 60}\n"
     ]
    }
   ],
   "source": [
    "#difference and symmetric difference:\n",
    "s1 = {40,45,50,60,80,150,100}\n",
    "s2 = {45,50,90,150,250}\n",
    "#difference\n",
    "print(s1-s2)\n",
    "print(s1.difference(s2))\n",
    "print(s2-s1)\n",
    "#symmetric -difference\n",
    "print(s1^s2)\n",
    "print(s1.symmetric_difference(s2))"
   ]
  },
  {
   "cell_type": "code",
   "execution_count": null,
   "metadata": {},
   "outputs": [],
   "source": [
    "#Update:\n",
    "Update() method updates a set, adding items from other iterables.\n",
    "Update() returns the None object.\n",
    "#syatax:\n",
    "s.update(iterable)\n",
    "s.update(iter1,iter2,iter3)"
   ]
  },
  {
   "cell_type": "code",
   "execution_count": 142,
   "metadata": {},
   "outputs": [
    {
     "name": "stdout",
     "output_type": "stream",
     "text": [
      "None\n",
      "{10, 20, 30}\n"
     ]
    }
   ],
   "source": [
    "s1 = {20,30}\n",
    "s2 = {10}\n",
    "result = s1.update(s2)\n",
    "print(result)\n",
    "print(s1)"
   ]
  },
  {
   "cell_type": "code",
   "execution_count": 152,
   "metadata": {},
   "outputs": [
    {
     "name": "stdout",
     "output_type": "stream",
     "text": [
      "False\n",
      "True\n",
      "True\n"
     ]
    }
   ],
   "source": [
    "#Set boolen methods:\n",
    "s1 = {40,60,80,100}\n",
    "s2 = {45,50,90,60,150,250,40,60,80,100}\n",
    "#disjoint()\n",
    "print(s1.isdisjoint(s2))\n",
    "#issubset()\n",
    "print(s1.issubset(s2))\n",
    "print(s2.issuperset(s1))"
   ]
  },
  {
   "cell_type": "code",
   "execution_count": null,
   "metadata": {},
   "outputs": [],
   "source": []
  }
 ],
 "metadata": {
  "kernelspec": {
   "display_name": "Python 3",
   "language": "python",
   "name": "python3"
  },
  "language_info": {
   "codemirror_mode": {
    "name": "ipython",
    "version": 3
   },
   "file_extension": ".py",
   "mimetype": "text/x-python",
   "name": "python",
   "nbconvert_exporter": "python",
   "pygments_lexer": "ipython3",
   "version": "3.7.3"
  }
 },
 "nbformat": 4,
 "nbformat_minor": 2
}
