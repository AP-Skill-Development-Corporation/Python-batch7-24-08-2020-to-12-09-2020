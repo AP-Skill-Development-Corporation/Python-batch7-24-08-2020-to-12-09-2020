{
 "cells": [
  {
   "cell_type": "code",
   "execution_count": null,
   "metadata": {},
   "outputs": [],
   "source": [
    "1. Take one list and separate and print the new list with containing only 3 digits of elements and their sum also in given list\n",
    "   Example: input_list = [23,45,789,900,1000,456,500,143]\n",
    "            output_list = [789,900,456,500,143]\n",
    "\n",
    "2. From in given range of numbers print the two lists as with evenlist and odd list numbers.\n",
    "           Ex: 1 to 1000\n",
    "               evenlist= []\n",
    "               oddlist = []\n",
    "3. Generate list of strings starting with character m from given list\n",
    "    Ex:stringlist = [\"monday\", \"morning\", \"tuesday\", \"friday\", \"message\", \n",
    "         \"sunday\"]\n",
    "4. Print the list with names who having the marks > 75 in given students marks dictionary:\n",
    "    #Ex: student_marks = {\"ravi\" : 55, \"pavan\" : 76, \"ramu\" : 80, \n",
    "                 \"vinay\" : 40, \"sai\" : 91, \"praveen\" : 66}\n",
    "    \n",
    "5. create a sample dice game of code (1 to 6)\n",
    "  \n",
    "6. Print the given dictonary into single line of string:\n",
    "    Example: d={'a': 2, 'b': 1, 'c': 1}\n",
    "        "
   ]
  }
 ],
 "metadata": {
  "kernelspec": {
   "display_name": "Python 3",
   "language": "python",
   "name": "python3"
  },
  "language_info": {
   "codemirror_mode": {
    "name": "ipython",
    "version": 3
   },
   "file_extension": ".py",
   "mimetype": "text/x-python",
   "name": "python",
   "nbconvert_exporter": "python",
   "pygments_lexer": "ipython3",
   "version": "3.7.3"
  }
 },
 "nbformat": 4,
 "nbformat_minor": 2
}
