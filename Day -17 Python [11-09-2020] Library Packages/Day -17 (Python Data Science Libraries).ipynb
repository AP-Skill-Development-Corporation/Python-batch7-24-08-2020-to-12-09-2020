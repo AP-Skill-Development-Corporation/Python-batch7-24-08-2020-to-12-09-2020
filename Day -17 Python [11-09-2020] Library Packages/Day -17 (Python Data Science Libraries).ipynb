{
 "cells": [
  {
   "cell_type": "code",
   "execution_count": null,
   "metadata": {},
   "outputs": [],
   "source": [
    "#Day-17 \n",
    "#Agenda  :    Python Bulit-in Libraries:\n",
    "                 1. Numpy\n",
    "                 2. Pandas\n",
    "                 3. MatPolt Lib\n",
    "#Numpy:\n",
    "Numpy is an Open Source Library available in Python.\n",
    "\n",
    "#It provides High -level functions to perform mathematical operations on numerical data.\n",
    "Author: Travis Oliphant\n",
    "First Release : 1995 \n",
    "Written in- Python Programming,C\n",
    "\n",
    "#Features\n",
    "Numpy stands - for Numrical Python (Numpy-num+py)\n",
    "1. Its contains powerful N-dimensional Object \n",
    "2. Fourier Transforms and shapes manipulation.\n",
    "3. Linear Algebra and random number generation."
   ]
  },
  {
   "cell_type": "code",
   "execution_count": null,
   "metadata": {},
   "outputs": [],
   "source": [
    "#How to Install Numpy Package in your System:\n",
    "pip install numpy   - #IDLE Users\n",
    "\n",
    "conda install -c anaconda numpy  - #anaconda users\n",
    "\n",
    "#How to import and use numpy\n",
    "import numpy as np"
   ]
  },
  {
   "cell_type": "code",
   "execution_count": 2,
   "metadata": {},
   "outputs": [
    {
     "name": "stdout",
     "output_type": "stream",
     "text": [
      "1.16.4\n"
     ]
    }
   ],
   "source": [
    "#How to import and use numpy\n",
    "import numpy as np\n",
    "\n",
    "#to check version\n",
    "print(np.__version__)"
   ]
  },
  {
   "cell_type": "code",
   "execution_count": 14,
   "metadata": {},
   "outputs": [
    {
     "name": "stdout",
     "output_type": "stream",
     "text": [
      "[1 2 3]\n",
      "(3,)\n",
      "int32\n"
     ]
    },
    {
     "data": {
      "text/plain": [
       "array([1, 2, 3])"
      ]
     },
     "execution_count": 14,
     "metadata": {},
     "output_type": "execute_result"
    }
   ],
   "source": [
    "#how to create Numpy arrays: (single-dimensional arrays)\n",
    "#We create Numpy arrays using Lists or Nested lists.\n",
    "import numpy as np\n",
    "a = np.array([1,2,3])\n",
    "print(a)\n",
    "print(a.shape)  #to find the shape of numpy array\n",
    "print(a.dtype)  # to find datatype of numpy array\n",
    "a"
   ]
  },
  {
   "cell_type": "code",
   "execution_count": 13,
   "metadata": {},
   "outputs": [
    {
     "name": "stdout",
     "output_type": "stream",
     "text": [
      "float64\n",
      "(3,)\n"
     ]
    }
   ],
   "source": [
    "#numpy arrays with float values\n",
    "b = np.array([1.1,3.5,6.8])\n",
    "print(b.dtype)\n",
    "print(b.shape)"
   ]
  },
  {
   "cell_type": "code",
   "execution_count": 18,
   "metadata": {},
   "outputs": [
    {
     "name": "stdout",
     "output_type": "stream",
     "text": [
      "[[1 2 3]\n",
      " [4 5 6]\n",
      " [7 8 9]]\n",
      "(3, 3)\n",
      "int32\n"
     ]
    }
   ],
   "source": [
    "#How to create 2D numpy Arrays:\n",
    "import numpy as np\n",
    "d = np.array([[1,2,3],[4,5,6],[7,8,9]])\n",
    "print(d)\n",
    "print(d.shape)\n",
    "print(d.dtype)"
   ]
  },
  {
   "cell_type": "code",
   "execution_count": 38,
   "metadata": {},
   "outputs": [
    {
     "name": "stdout",
     "output_type": "stream",
     "text": [
      "[[0. 0.]\n",
      " [0. 0.]]\n",
      "[[0. 0. 0. 0.]\n",
      " [0. 0. 0. 0.]\n",
      " [0. 0. 0. 0.]\n",
      " [0. 0. 0. 0.]]\n"
     ]
    }
   ],
   "source": [
    "#Numpy operations:\n",
    "#zeros: (its used to create a matrix full of zeros)\n",
    "#syntax: \n",
    "#numpy.zeros(shape,dtype=float,order=\"C\")\n",
    "import numpy as np\n",
    "print(np.zeros((2,2)))\n",
    "print(np.zeros((4,4)))"
   ]
  },
  {
   "cell_type": "code",
   "execution_count": 32,
   "metadata": {},
   "outputs": [
    {
     "name": "stdout",
     "output_type": "stream",
     "text": [
      "[[[1. 1. 1.]\n",
      "  [1. 1. 1.]]]\n",
      "[[[1 1 1]\n",
      "  [1 1 1]]]\n"
     ]
    }
   ],
   "source": [
    "#np.ones() functions:\n",
    "#syntax: \n",
    "#numpy.zeros(shape,dtype=float,order=\"C\")\n",
    "\n",
    "print(np.ones([1,2,3]))   # To give the rows and coloums order\n",
    "print(np.ones((1,2,3),dtype=np.int16))  "
   ]
  },
  {
   "cell_type": "code",
   "execution_count": 42,
   "metadata": {},
   "outputs": [
    {
     "name": "stdout",
     "output_type": "stream",
     "text": [
      "[[1. 1. 1.]\n",
      " [1. 1. 1.]]\n",
      "[[1. 1.]\n",
      " [1. 1.]\n",
      " [1. 1.]]\n"
     ]
    }
   ],
   "source": [
    "print(np.ones((2,3)))\n",
    "print(np.ones((3,2)))"
   ]
  },
  {
   "cell_type": "code",
   "execution_count": 49,
   "metadata": {},
   "outputs": [
    {
     "name": "stdout",
     "output_type": "stream",
     "text": [
      "[[1 2 3]\n",
      " [5 6 8]]\n",
      "(2, 3)\n",
      "[[1 2]\n",
      " [3 5]\n",
      " [6 8]]\n",
      "(3, 2)\n",
      "[1 2 3 5 6 8]\n"
     ]
    }
   ],
   "source": [
    "#reshape of numpy arrays\n",
    "#reshape():\n",
    "#syntax:\n",
    "             #numpy.reshape(a,newshape,order=\"C\")\n",
    "             #a - array that you what to change\n",
    "import numpy as np\n",
    "a = np.array([[1,2,3],[5,6,8]])\n",
    "print(a)\n",
    "print(a.shape)\n",
    "b=a.reshape(3,2)\n",
    "print(b)\n",
    "print(b.shape)\n",
    "print(b.flatten())"
   ]
  },
  {
   "cell_type": "code",
   "execution_count": 52,
   "metadata": {},
   "outputs": [
    {
     "name": "stdout",
     "output_type": "stream",
     "text": [
      "[[1 3 5 4 6 8]]\n",
      "[[1 3 5]\n",
      " [4 6 8]]\n"
     ]
    }
   ],
   "source": [
    "#Hstack and Vstack: (for appending the data in horizontal and vertically)\n",
    "#Hstack:\n",
    "import numpy as np\n",
    "a = np.array([[1,3,5]])\n",
    "b = np.array([[4,6,8]])\n",
    "print(np.hstack((a,b)))\n",
    "print(np.vstack((a,b)))"
   ]
  },
  {
   "cell_type": "code",
   "execution_count": 54,
   "metadata": {},
   "outputs": [
    {
     "name": "stdout",
     "output_type": "stream",
     "text": [
      "[4.41895406 5.1965508  4.91275274 4.90870586 4.66131123 5.02896264\n",
      " 4.55874946 4.73970913 5.27904588 4.63092246]\n"
     ]
    }
   ],
   "source": [
    "#Generate random numbers:\n",
    "#numpy.random.normal(loc,scale,size)\n",
    "# Loc- mean of distribution\n",
    "#scale - standard deviation\n",
    "#size- number of retuns\n",
    "# To generate random number from normal distribution.\n",
    "normal_array = np.random.normal(5,0.5,10)\n",
    "print(normal_array)"
   ]
  },
  {
   "cell_type": "code",
   "execution_count": null,
   "metadata": {},
   "outputs": [],
   "source": [
    "#arange() function:\n",
    "Its used to returns an ndarray(n-dimensional array) object that contains evenly \n",
    "spaced values within a defined internal.\n",
    "#syatax:\n",
    "\n",
    "numpy.arange(start,stop,size)"
   ]
  },
  {
   "cell_type": "code",
   "execution_count": 67,
   "metadata": {},
   "outputs": [
    {
     "name": "stdout",
     "output_type": "stream",
     "text": [
      "[ 1  2  3  4  5  6  7  8  9 10]\n",
      "[1 3 5 7 9]\n",
      "[1.  1.4 1.8 2.2 2.6 3.  3.4 3.8 4.2 4.6]\n",
      "[ 1000.          2154.43469003  4641.58883361 10000.        ]\n"
     ]
    }
   ],
   "source": [
    "import numpy as np\n",
    "print(np.arange(1,11))\n",
    "\n",
    "print(np.arange(1,11,2))\n",
    "print(np.linspace(1.0,5.0,num=10,endpoint=False)) #for generationg even spaced samples\n",
    "print(np.logspace(3.0,4.0,num=4))   #for even space samples on log scale"
   ]
  },
  {
   "cell_type": "code",
   "execution_count": 81,
   "metadata": {},
   "outputs": [
    {
     "name": "stdout",
     "output_type": "stream",
     "text": [
      "3\n",
      "8\n",
      "3 6\n",
      "[ 3  6 90]\n",
      "[ 2  5 60]\n",
      "5 8\n",
      "[5 8]\n"
     ]
    }
   ],
   "source": [
    "#slicing on numpy arrays:\n",
    "import numpy as np\n",
    "a=np.array([(1,2,3,5),(3,5,6,8),[50,60,90,100]])\n",
    "print(a[0,2])\n",
    "print(a[1,3])\n",
    "print(a[0, 2], a[1, 2])   #boomika logic\n",
    "print(a[0:,2])      #my logic\n",
    "print(a[0:,1])  #prasanna kumar logic\n",
    "print(a[1,1],a[1,3])   #naveen logic\n",
    "print(a[0:2,3])"
   ]
  },
  {
   "cell_type": "code",
   "execution_count": 98,
   "metadata": {},
   "outputs": [
    {
     "name": "stdout",
     "output_type": "stream",
     "text": [
      "8\n",
      "1\n",
      "45\n",
      "[ 5  7  9 11 13]\n",
      "[15 30]\n",
      "[[1.         1.41421356 1.73205081 2.         2.23606798]\n",
      " [2.         2.23606798 2.44948974 2.64575131 2.82842712]]\n",
      "2.0615528128088303\n",
      "[[ 2  4  6  8 10]\n",
      " [ 8 10 12 14 16]]\n",
      "[[0 0 0 0 0]\n",
      " [0 0 0 0 0]]\n",
      "[[ 1  4  9 16 25]\n",
      " [16 25 36 49 64]]\n",
      "[[1. 1. 1. 1. 1.]\n",
      " [1. 1. 1. 1. 1.]]\n"
     ]
    }
   ],
   "source": [
    "#Max/min:\n",
    "import numpy as np\n",
    "a = np.array([[1,2,3,4,5],[4,5,6,7,8]])\n",
    "b = np.array([[1,2,3,4,5],[4,5,6,7,8]])\n",
    "print(a.max())\n",
    "print(a.min())\n",
    "print(a.sum())\n",
    "print(a.sum(axis=0))  #column based\n",
    "print(a.sum(axis=1)) #row based\n",
    "print(np.sqrt(a))\n",
    "print(np.std(a))\n",
    "print(a+b)\n",
    "print(a-b)\n",
    "print(a*b)\n",
    "print(a/b)"
   ]
  },
  {
   "cell_type": "code",
   "execution_count": null,
   "metadata": {},
   "outputs": [],
   "source": [
    "#Pandas in Python:\n",
    "Pandas is an opensource library in python that allows to you perform \n",
    "                (i)    Data manipuation,\n",
    "                (ii)   Data analysis\n",
    "                (iii)  Data Cleaning\n",
    "1. its built on top of Numpy Packages,Pandas need to Numpy arrays data to operate\n",
    "2. its a elegant solution for time series Data\n",
    "            1. Population of Data\n",
    "            2. any Company production Growth\n",
    "    #Author : Wes McKinney\n",
    "    #First Release: version 0.23 July,2018\n",
    "    #Written in : Python\n",
    "    \n",
    "#Why use pandas?\n",
    " Data Scientics use pandas for its\n",
    "     1. easily handles missing data\n",
    "     2. flexible way to slice the data.\n",
    "     3. Provides powerful time series tool to work with Data Frames."
   ]
  },
  {
   "cell_type": "code",
   "execution_count": null,
   "metadata": {},
   "outputs": [],
   "source": [
    "#How to install pandas:\n",
    "pip install pandas"
   ]
  },
  {
   "cell_type": "code",
   "execution_count": null,
   "metadata": {},
   "outputs": [],
   "source": [
    "\n",
    "#What is Data frame:(Pandas Data Structures (Data Frame and Data Series))\n",
    "Df is 2d- array ,with labeled axes (rows and columns) to store the data.\n",
    " its contains tabular data.\n",
    "   #ex: item     price\n",
    "    0   A        50\n",
    "    1   B       100\n",
    "#Data Series:\n",
    " A series is a 1- D data structure. It can have any data type values\n",
    "     like integer, float, and string\n",
    "    #ex:\n",
    "    0    1.0\n",
    "    1   2.0\n",
    "    2   3.0\n",
    "    dtype: float64"
   ]
  },
  {
   "cell_type": "code",
   "execution_count": 107,
   "metadata": {},
   "outputs": [
    {
     "name": "stdout",
     "output_type": "stream",
     "text": [
      "0    1\n",
      "1    2\n",
      "2    3\n",
      "dtype: int64\n",
      "a    1.0\n",
      "b    2.0\n",
      "c    3.0\n",
      "dtype: float64\n",
      "0    1.0\n",
      "1    2.0\n",
      "2    NaN\n",
      "dtype: float64\n"
     ]
    }
   ],
   "source": [
    "# How to create Data series:\n",
    "import pandas as pd\n",
    "s1 =pd.Series([1,2,3])\n",
    "s2= pd.Series([1.,2.,3.],index=[\"a\",\"b\",\"c\"])\n",
    "s3 = pd.Series([1,2,np.nan])   #missing value as \"NaN\"\n",
    "print(s1)\n",
    "print(s2)\n",
    "print(s3)"
   ]
  },
  {
   "cell_type": "code",
   "execution_count": 113,
   "metadata": {},
   "outputs": [
    {
     "name": "stdout",
     "output_type": "stream",
     "text": [
      "   0  1\n",
      "0  1  3\n",
      "1  5  6\n",
      "[[1 3]\n",
      " [5 6]]\n"
     ]
    }
   ],
   "source": [
    "#How to create Data Frames:\n",
    "#Numpy to Pandas\n",
    "import numpy as np\n",
    "#a = [[1,3],[5,6]]\n",
    "df = pd.DataFrame([[1,3],[5,6]])\n",
    "print(df)\n",
    "df\n",
    "#pandas to numpy\n",
    "df_to_numpy = np.array(df)\n",
    "print(df_to_numpy)"
   ]
  },
  {
   "cell_type": "code",
   "execution_count": 118,
   "metadata": {},
   "outputs": [
    {
     "data": {
      "text/html": [
       "<div>\n",
       "<style scoped>\n",
       "    .dataframe tbody tr th:only-of-type {\n",
       "        vertical-align: middle;\n",
       "    }\n",
       "\n",
       "    .dataframe tbody tr th {\n",
       "        vertical-align: top;\n",
       "    }\n",
       "\n",
       "    .dataframe thead th {\n",
       "        text-align: right;\n",
       "    }\n",
       "</style>\n",
       "<table border=\"1\" class=\"dataframe\">\n",
       "  <thead>\n",
       "    <tr style=\"text-align: right;\">\n",
       "      <th></th>\n",
       "      <th>Name</th>\n",
       "      <th>values</th>\n",
       "    </tr>\n",
       "  </thead>\n",
       "  <tbody>\n",
       "    <tr>\n",
       "      <th>1</th>\n",
       "      <td>surya</td>\n",
       "      <td>50</td>\n",
       "    </tr>\n",
       "    <tr>\n",
       "      <th>2</th>\n",
       "      <td>apssdc</td>\n",
       "      <td>60</td>\n",
       "    </tr>\n",
       "    <tr>\n",
       "      <th>3</th>\n",
       "      <td>python</td>\n",
       "      <td>100</td>\n",
       "    </tr>\n",
       "  </tbody>\n",
       "</table>\n",
       "</div>"
      ],
      "text/plain": [
       "     Name  values\n",
       "1   surya      50\n",
       "2  apssdc      60\n",
       "3  python     100"
      ]
     },
     "execution_count": 118,
     "metadata": {},
     "output_type": "execute_result"
    }
   ],
   "source": [
    "#dataframe with Dictionary Values:\n",
    "import pandas as pd\n",
    "dic = {'Name':[\"surya\",\"apssdc\",\"python\"],\"values\":[50,60,100]}\n",
    "pd.DataFrame(data=dic,index=[\"1\",\"2\",\"3\"])"
   ]
  },
  {
   "cell_type": "code",
   "execution_count": null,
   "metadata": {},
   "outputs": [],
   "source": []
  }
 ],
 "metadata": {
  "kernelspec": {
   "display_name": "Python 3",
   "language": "python",
   "name": "python3"
  },
  "language_info": {
   "codemirror_mode": {
    "name": "ipython",
    "version": 3
   },
   "file_extension": ".py",
   "mimetype": "text/x-python",
   "name": "python",
   "nbconvert_exporter": "python",
   "pygments_lexer": "ipython3",
   "version": "3.7.3"
  }
 },
 "nbformat": 4,
 "nbformat_minor": 2
}
