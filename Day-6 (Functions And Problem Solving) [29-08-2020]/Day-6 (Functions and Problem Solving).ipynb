{
 "cells": [
  {
   "cell_type": "code",
   "execution_count": null,
   "metadata": {},
   "outputs": [],
   "source": [
    "#YesterDay Tasks Status:\n",
    "    #Day- 5 (Today Tasks)                                \n",
    "    \n",
    "    1. Bodapati Lakshmi Pravallika- 5 Tasks (Except Leap and Calculator)\n",
    "    2. Darshani   - All 8 Tasks\n",
    "    3. Raki Abc   - All Tasks  (Ask Some Doubt: How to Add float and int values)\n",
    "    4. Shaik Munni - 7 Tasks (Doubt About Palidr)\n",
    "    5. Yasaswini Burlagadda - 6 Tasks (Except Leap Year)\n",
    "                                                        \n",
    "\n",
    "1. find the given number is palindrome or not.  \n",
    "2. check the given number is prime or not.\n",
    "3. Print the given year is leap or not.\n",
    "4. print the leap years in given range of years.\n",
    "5. print the math table as up to given number\n",
    "6. To check the given number is positive or not.\n",
    "7. Print the swaping of given actual numbers\n",
    "8. Program to do the basic calculator operations."
   ]
  },
  {
   "cell_type": "code",
   "execution_count": null,
   "metadata": {},
   "outputs": [],
   "source": [
    "# Today Agenda:\n",
    "               1. Functions - Continue\n",
    "                   (a) Types of Functions\n",
    "                   (b) Recursion in Functions\n",
    "                    (c) Scope of varibles in Functions\n",
    "                problem sloving"
   ]
  },
  {
   "cell_type": "code",
   "execution_count": null,
   "metadata": {},
   "outputs": [],
   "source": [
    "#Functions:\n",
    "Function is a group of related statements that perfomrs a specific task.\n",
    "why use functions?\n",
    " 1. To avoid code repition\n",
    " 2. To make our Complex program into smaller sub programs for easy degug.\n",
    " 3. write once and Use any times. (code resuabilty)"
   ]
  },
  {
   "cell_type": "code",
   "execution_count": null,
   "metadata": {},
   "outputs": [],
   "source": [
    "#How to create functions:\n",
    "def funtionname(paraementers): # formal parameters\n",
    "    \"\"\"doc string\"\"\"\n",
    "    #block of statements\n",
    "    return\n",
    "functionname(paramenters) #function calling with calling parameters(actual parameters)"
   ]
  },
  {
   "cell_type": "code",
   "execution_count": 17,
   "metadata": {},
   "outputs": [
    {
     "data": {
      "text/plain": [
       "120"
      ]
     },
     "execution_count": 17,
     "metadata": {},
     "output_type": "execute_result"
    }
   ],
   "source": [
    "#Example: (with parameters)\n",
    "def addof3(x,y,z):      # positional arguments\n",
    "    \"\"\"This function adds the given numbers and print thier sum\"\"\"  #docstring\n",
    "    a = x+y\n",
    "    b = y+z\n",
    "    c = x+z\n",
    "    return a+b+c\n",
    "    #return a,b,c\n",
    "addof3(10,20,30)"
   ]
  },
  {
   "cell_type": "code",
   "execution_count": 5,
   "metadata": {},
   "outputs": [
    {
     "name": "stdout",
     "output_type": "stream",
     "text": [
      "Hello Good Morining\n"
     ]
    }
   ],
   "source": [
    "#With Out Parameters\n",
    "def name():\n",
    "    print(\"Hello Good Morining\")\n",
    "name()"
   ]
  },
  {
   "cell_type": "code",
   "execution_count": 12,
   "metadata": {},
   "outputs": [
    {
     "data": {
      "text/plain": [
       "2.449489742783178"
      ]
     },
     "execution_count": 12,
     "metadata": {},
     "output_type": "execute_result"
    }
   ],
   "source": [
    "import math\n",
    "math.sqrt(6)"
   ]
  },
  {
   "cell_type": "code",
   "execution_count": 19,
   "metadata": {},
   "outputs": [
    {
     "name": "stdout",
     "output_type": "stream",
     "text": [
      "Hello from with in first \n",
      "3\n",
      "Hello from with in first \n",
      "30\n"
     ]
    }
   ],
   "source": [
    "#Difference b/w print and return\n",
    "def first():\n",
    "    print(\"Hello from with in first \")\n",
    "    return 3 #its NONE object\n",
    "def second():\n",
    "    return 10*first()\n",
    "print(first())\n",
    "print(second())"
   ]
  },
  {
   "cell_type": "code",
   "execution_count": 29,
   "metadata": {},
   "outputs": [
    {
     "name": "stdout",
     "output_type": "stream",
     "text": [
      "enter a number6\n",
      "the factorial of 6 is 720\n"
     ]
    }
   ],
   "source": [
    "#Recurision in function:\n",
    "num = int(input(\"enter a number\"))  #type conversion string to int\n",
    "def factorial(x):\n",
    "    \"\"\"This is a recursive function to find the factorial of given number\"\"\"\n",
    "    if x == 1 or x ==0:\n",
    "        return 1\n",
    "    else:\n",
    "        return (x*factorial(x-1))   #recursive calling\n",
    "\n",
    "print(\"the factorial of\",num,\"is\",factorial(num))"
   ]
  },
  {
   "cell_type": "code",
   "execution_count": null,
   "metadata": {},
   "outputs": [],
   "source": [
    "#Type of Arguments:\n",
    "1. default arguments\n",
    "2. keyword arguments\n",
    "3. arbitary arguments"
   ]
  },
  {
   "cell_type": "code",
   "execution_count": null,
   "metadata": {},
   "outputs": [],
   "source": [
    "#Default arguments:\n",
    "       The values of default arguments are fixed at funtion declartion."
   ]
  },
  {
   "cell_type": "code",
   "execution_count": 33,
   "metadata": {},
   "outputs": [
    {
     "data": {
      "text/plain": [
       "'Apssdc is conducting python workshop to the students in Ap as online'"
      ]
     },
     "execution_count": 33,
     "metadata": {},
     "output_type": "execute_result"
    }
   ],
   "source": [
    "#Example:\n",
    "def msg(program = \"python workshop\",mode = \"online\"):\n",
    "    return \"Apssdc is conducting \"+program+\" to the students in Ap as \"+ mode\n",
    "msg()"
   ]
  },
  {
   "cell_type": "code",
   "execution_count": 34,
   "metadata": {},
   "outputs": [
    {
     "data": {
      "text/plain": [
       "'Apssdc is conducting python workshop to the students in Ap as online'"
      ]
     },
     "execution_count": 34,
     "metadata": {},
     "output_type": "execute_result"
    }
   ],
   "source": [
    "#keyword arguments: (values of keyword arguments fixed at function calling)\n",
    "def msg(program,mode):\n",
    "    return \"Apssdc is conducting \"+program+\" to the students in Ap as \"+ mode\n",
    "msg(mode=\"online\",program=\"python workshop\")"
   ]
  },
  {
   "cell_type": "code",
   "execution_count": 35,
   "metadata": {},
   "outputs": [
    {
     "name": "stdout",
     "output_type": "stream",
     "text": [
      "dhoni\n",
      "kohli\n",
      "rohit\n",
      "dhavan\n",
      "sureshraina\n"
     ]
    }
   ],
   "source": [
    "#arbitary arguments: (it can be specified by *astriek symbol)\n",
    "def indianplayers(*names):\n",
    "    for name in names:\n",
    "        print(name)\n",
    "indianplayers(\"dhoni\",\"kohli\",\"rohit\",\"dhavan\",\"sureshraina\")"
   ]
  },
  {
   "cell_type": "code",
   "execution_count": null,
   "metadata": {},
   "outputs": [],
   "source": [
    "#Types of Functions:\n",
    "1. Built-in or Predefined (these functions are defined or created by developer Defautly)\n",
    "2. Used Defined (These function ade mare by users or programmers as per our requirements)"
   ]
  },
  {
   "cell_type": "code",
   "execution_count": 38,
   "metadata": {},
   "outputs": [
    {
     "data": {
      "text/plain": [
       "5040"
      ]
     },
     "execution_count": 38,
     "metadata": {},
     "output_type": "execute_result"
    }
   ],
   "source": [
    "import math\n",
    "math.factorial(7)"
   ]
  },
  {
   "cell_type": "code",
   "execution_count": 37,
   "metadata": {},
   "outputs": [
    {
     "name": "stdout",
     "output_type": "stream",
     "text": [
      "enter a number6\n",
      "the factorial of 6 is 720\n"
     ]
    }
   ],
   "source": [
    "num = int(input(\"enter a number\"))  #type conversion string to int\n",
    "def factorial(x):\n",
    "    \"\"\"This is a recursive function to find the factorial of given number\"\"\"\n",
    "    if x == 1 or x ==0:\n",
    "        return 1\n",
    "    else:\n",
    "        return (x*factorial(x-1))   #recursive calling\n",
    "\n",
    "print(\"the factorial of\",num,\"is\",factorial(num))"
   ]
  },
  {
   "cell_type": "code",
   "execution_count": 39,
   "metadata": {},
   "outputs": [
    {
     "data": {
      "text/plain": [
       "25"
      ]
     },
     "execution_count": 39,
     "metadata": {},
     "output_type": "execute_result"
    }
   ],
   "source": [
    "#Use- defined functions:\n",
    "def sqrt(x):\n",
    "    return x**2\n",
    "sqrt(5)"
   ]
  },
  {
   "cell_type": "code",
   "execution_count": 49,
   "metadata": {},
   "outputs": [
    {
     "name": "stdout",
     "output_type": "stream",
     "text": [
      "['ArithmeticError', 'AssertionError', 'AttributeError', 'BaseException', 'BlockingIOError', 'BrokenPipeError', 'BufferError', 'BytesWarning', 'ChildProcessError', 'ConnectionAbortedError', 'ConnectionError', 'ConnectionRefusedError', 'ConnectionResetError', 'DeprecationWarning', 'EOFError', 'Ellipsis', 'EnvironmentError', 'Exception', 'False', 'FileExistsError', 'FileNotFoundError', 'FloatingPointError', 'FutureWarning', 'GeneratorExit', 'IOError', 'ImportError', 'ImportWarning', 'IndentationError', 'IndexError', 'InterruptedError', 'IsADirectoryError', 'KeyError', 'KeyboardInterrupt', 'LookupError', 'MemoryError', 'ModuleNotFoundError', 'NameError', 'None', 'NotADirectoryError', 'NotImplemented', 'NotImplementedError', 'OSError', 'OverflowError', 'PendingDeprecationWarning', 'PermissionError', 'ProcessLookupError', 'RecursionError', 'ReferenceError', 'ResourceWarning', 'RuntimeError', 'RuntimeWarning', 'StopAsyncIteration', 'StopIteration', 'SyntaxError', 'SyntaxWarning', 'SystemError', 'SystemExit', 'TabError', 'TimeoutError', 'True', 'TypeError', 'UnboundLocalError', 'UnicodeDecodeError', 'UnicodeEncodeError', 'UnicodeError', 'UnicodeTranslateError', 'UnicodeWarning', 'UserWarning', 'ValueError', 'Warning', 'WindowsError', 'ZeroDivisionError', '__IPYTHON__', '__build_class__', '__debug__', '__doc__', '__import__', '__loader__', '__name__', '__package__', '__spec__', 'abs', 'all', 'any', 'ascii', 'bin', 'bool', 'breakpoint', 'bytearray', 'bytes', 'callable', 'chr', 'classmethod', 'compile', 'complex', 'copyright', 'credits', 'delattr', 'dict', 'dir', 'display', 'divmod', 'enumerate', 'eval', 'exec', 'filter', 'float', 'format', 'frozenset', 'get_ipython', 'getattr', 'globals', 'hasattr', 'hash', 'help', 'hex', 'id', 'input', 'int', 'isinstance', 'issubclass', 'iter', 'len', 'license', 'list', 'locals', 'map', 'max', 'memoryview', 'min', 'next', 'object', 'oct', 'open', 'ord', 'pow', 'print', 'property', 'range', 'repr', 'reversed', 'round', 'set', 'setattr', 'slice', 'sorted', 'staticmethod', 'str', 'sum', 'super', 'tuple', 'type', 'vars', 'zip'] "
     ]
    }
   ],
   "source": [
    "print(dir(__builtin__),end=\" \")"
   ]
  },
  {
   "cell_type": "code",
   "execution_count": 47,
   "metadata": {},
   "outputs": [
    {
     "name": "stdout",
     "output_type": "stream",
     "text": [
      "36\n",
      "125\n",
      "4\n",
      "3\n"
     ]
    }
   ],
   "source": [
    "#pre-defined functions:\n",
    "from math  import ceil,floor\n",
    "print(sqrt(6))\n",
    "print(pow(5,3))\n",
    "print(ceil(3.5))    # returns integer greate than to argument\n",
    "print(floor(3.5))    # returns integer less than to argument"
   ]
  },
  {
   "cell_type": "code",
   "execution_count": 51,
   "metadata": {},
   "outputs": [
    {
     "data": {
      "text/plain": [
       "True"
      ]
     },
     "execution_count": 51,
     "metadata": {},
     "output_type": "execute_result"
    }
   ],
   "source": [
    "any((0,1,0))             #1 - True, 0 -False"
   ]
  },
  {
   "cell_type": "code",
   "execution_count": 54,
   "metadata": {},
   "outputs": [
    {
     "name": "stdout",
     "output_type": "stream",
     "text": [
      "90\n"
     ]
    }
   ],
   "source": [
    "abs(-5)      #its gives the absolute values\n",
    "print(abs(-90))"
   ]
  },
  {
   "cell_type": "code",
   "execution_count": 64,
   "metadata": {},
   "outputs": [
    {
     "name": "stdout",
     "output_type": "stream",
     "text": [
      "A\n",
      "a\n",
      "z\n",
      "65\n",
      "97\n"
     ]
    }
   ],
   "source": [
    "print(chr(65))\n",
    "print(chr(97))\n",
    "print(chr(122))\n",
    "print(ord(\"A\"))\n",
    "print(ord(\"a\"))"
   ]
  },
  {
   "cell_type": "code",
   "execution_count": 68,
   "metadata": {},
   "outputs": [
    {
     "name": "stdout",
     "output_type": "stream",
     "text": [
      "['__add__', '__class__', '__contains__', '__delattr__', '__delitem__', '__dir__', '__doc__', '__eq__', '__format__', '__ge__', '__getattribute__', '__getitem__', '__gt__', '__hash__', '__iadd__', '__imul__', '__init__', '__init_subclass__', '__iter__', '__le__', '__len__', '__lt__', '__mul__', '__ne__', '__new__', '__reduce__', '__reduce_ex__', '__repr__', '__reversed__', '__rmul__', '__setattr__', '__setitem__', '__sizeof__', '__str__', '__subclasshook__', 'append', 'clear', 'copy', 'count', 'extend', 'index', 'insert', 'pop', 'remove', 'reverse', 'sort'] ['__and__', '__class__', '__contains__', '__delattr__', '__dir__', '__doc__', '__eq__', '__format__', '__ge__', '__getattribute__', '__gt__', '__hash__', '__iand__', '__init__', '__init_subclass__', '__ior__', '__isub__', '__iter__', '__ixor__', '__le__', '__len__', '__lt__', '__ne__', '__new__', '__or__', '__rand__', '__reduce__', '__reduce_ex__', '__repr__', '__ror__', '__rsub__', '__rxor__', '__setattr__', '__sizeof__', '__str__', '__sub__', '__subclasshook__', '__xor__', 'add', 'clear', 'copy', 'difference', 'difference_update', 'discard', 'intersection', 'intersection_update', 'isdisjoint', 'issubset', 'issuperset', 'pop', 'remove', 'symmetric_difference', 'symmetric_difference_update', 'union', 'update'] "
     ]
    }
   ],
   "source": [
    "print(dir(list),end=\" \")\n",
    "print(dir(set),end=\" \")"
   ]
  },
  {
   "cell_type": "code",
   "execution_count": 74,
   "metadata": {},
   "outputs": [
    {
     "name": "stdout",
     "output_type": "stream",
     "text": [
      "0b10\n",
      "0b1010\n",
      "<class 'int'>\n",
      "<class 'str'>\n",
      "670\n",
      "1\n"
     ]
    }
   ],
   "source": [
    "#bin - binary values\n",
    "print(bin(2))\n",
    "print(bin(10))\n",
    "a = 10\n",
    "b = \"surya\"\n",
    "print(type(a))\n",
    "print(type(b))\n",
    "print(max([100,670,500]))\n",
    "print(min([60,1,3,5,10]))"
   ]
  },
  {
   "cell_type": "code",
   "execution_count": 100,
   "metadata": {},
   "outputs": [
    {
     "name": "stdout",
     "output_type": "stream",
     "text": [
      "68\n",
      "0.646708720783942\n",
      "79.60581326209412\n",
      "python\n"
     ]
    }
   ],
   "source": [
    "#random() - its predefined function\n",
    "#randint()- its generated the numbers randomly in given range\n",
    "#random() - its geneate a float number in range of 0 to 1\n",
    "#choice() - its returns the numbers randomly by choice\n",
    "import random\n",
    "print(random.randint(0,100))\n",
    "print(random.random())\n",
    "print(random.random()*100)\n",
    "li = [1,3,4,6,7,100,60,\"python\",\"apssdc\"]\n",
    "print(random.choice(li))"
   ]
  },
  {
   "cell_type": "code",
   "execution_count": 107,
   "metadata": {},
   "outputs": [
    {
     "data": {
      "text/plain": [
       "'C:\\\\Users\\\\Mission Impossible\\\\Desktop\\\\Python-Online Workshop Content\\\\Day-6 (Funtions And Strings) [29-08-2020]'"
      ]
     },
     "execution_count": 107,
     "metadata": {},
     "output_type": "execute_result"
    }
   ],
   "source": [
    "#os - module\n",
    "import os\n",
    "os.getcwd()\n",
    "#os.chdir('C:\\\\Users\\\\Mission Impossible\\\\Desktop\\\\')\n",
    "os.getcwd()\n",
    "#os.chdir(r\"C:\\Users\\Mission Impossible\\Desktop\\Python-Online Workshop Content\\Day-6 (Funtions And Strings) [29-08-2020]\")"
   ]
  },
  {
   "cell_type": "code",
   "execution_count": 108,
   "metadata": {},
   "outputs": [],
   "source": [
    "os.mkdir(\"Today new Tasks\")"
   ]
  },
  {
   "cell_type": "code",
   "execution_count": 110,
   "metadata": {},
   "outputs": [],
   "source": [
    "os.chdir('C:\\\\Users\\\\Mission Impossible\\\\Desktop\\\\Python-Online Workshop Content\\\\')"
   ]
  },
  {
   "cell_type": "code",
   "execution_count": 111,
   "metadata": {},
   "outputs": [
    {
     "data": {
      "text/plain": [
       "'C:\\\\Users\\\\Mission Impossible\\\\Desktop\\\\Python-Online Workshop Content'"
      ]
     },
     "execution_count": 111,
     "metadata": {},
     "output_type": "execute_result"
    }
   ],
   "source": [
    "#get a current working dir\n",
    "os.getcwd()"
   ]
  },
  {
   "cell_type": "code",
   "execution_count": 112,
   "metadata": {},
   "outputs": [],
   "source": [
    "#make a  dir\n",
    "os.mkdir(\"Sub folder\")"
   ]
  },
  {
   "cell_type": "code",
   "execution_count": 113,
   "metadata": {},
   "outputs": [],
   "source": [
    "#remove a dictory\n",
    "os.rmdir(\"Sub folder\")"
   ]
  },
  {
   "cell_type": "code",
   "execution_count": 119,
   "metadata": {},
   "outputs": [],
   "source": [
    "#rename a dir\n",
    "#os.mkdir(\"Tasks\")\n",
    "os.rename(\"Tasks\",\"NewTasks\")          #os.rename(\"oldname\",\"newname\")"
   ]
  },
  {
   "cell_type": "code",
   "execution_count": 123,
   "metadata": {},
   "outputs": [
    {
     "name": "stdout",
     "output_type": "stream",
     "text": [
      "15\n"
     ]
    }
   ],
   "source": [
    "a = 10\n",
    "b = 5.5\n",
    "print(int(a+b))"
   ]
  },
  {
   "cell_type": "code",
   "execution_count": 128,
   "metadata": {},
   "outputs": [
    {
     "name": "stdout",
     "output_type": "stream",
     "text": [
      "1\n",
      "1\n",
      "12\n",
      "2\n",
      "12\n",
      "1\n",
      "1\n",
      "121\n",
      "0\n",
      "Given number is Palindrome\n"
     ]
    }
   ],
   "source": [
    "#Tasks Expalanation:\n",
    "# Palindrome: The reverse of that number is equal to that number\n",
    "n = 121\n",
    "temp = n           #for reference storage\n",
    "rev = 0           # for store the reverse of that number\n",
    "while n>0:\n",
    "    div = n%10    #returns coffient of n\n",
    "    print(div)\n",
    "    rev = rev*10+div\n",
    "    print(rev)\n",
    "    n = n//10   #floor division - it returns remainder of n\n",
    "    print(n)\n",
    "if temp == rev:\n",
    "    print(\"Given number is Palindrome\")\n",
    "else:\n",
    "    print(\"Its Not a Palindrome\")"
   ]
  },
  {
   "cell_type": "code",
   "execution_count": 131,
   "metadata": {},
   "outputs": [
    {
     "name": "stdout",
     "output_type": "stream",
     "text": [
      "229.6\n",
      "229\n"
     ]
    }
   ],
   "source": [
    "#Doubts Clarification:\n",
    "a = 90\n",
    "b = 139.6\n",
    "print(a+b)\n",
    "print(int(a+b))"
   ]
  },
  {
   "cell_type": "code",
   "execution_count": null,
   "metadata": {},
   "outputs": [],
   "source": []
  }
 ],
 "metadata": {
  "kernelspec": {
   "display_name": "Python 3",
   "language": "python",
   "name": "python3"
  },
  "language_info": {
   "codemirror_mode": {
    "name": "ipython",
    "version": 3
   },
   "file_extension": ".py",
   "mimetype": "text/x-python",
   "name": "python",
   "nbconvert_exporter": "python",
   "pygments_lexer": "ipython3",
   "version": "3.7.3"
  }
 },
 "nbformat": 4,
 "nbformat_minor": 2
}
