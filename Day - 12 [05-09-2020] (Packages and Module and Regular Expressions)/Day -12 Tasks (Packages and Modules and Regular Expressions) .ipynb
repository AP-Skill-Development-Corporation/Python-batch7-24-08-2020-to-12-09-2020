{
 "cells": [
  {
   "cell_type": "code",
   "execution_count": null,
   "metadata": {},
   "outputs": [],
   "source": [
    "1. data=\"\"\"fgvlhj nkg kjg knjg n,bgihM KJGNLJH\n",
    "JGDKTHGC GHF\n",
    "JGYUFH V\n",
    "KHGTFV53\n",
    "569\n",
    "jhgfijhy\n",
    "6578+96GJFUJ\n",
    "\"\"\"\n",
    "find out no.of \n",
    "                   1. Upper case Characters\n",
    "                   2. Lower Case Characters\n",
    "                   3. Digits\n",
    "                   4. Length of Data\n",
    "                   5. Special Characters\n",
    "2. Using Strings, U can Print the output based on given input string.\n",
    "   #i/p: C S E S T U D E N T S\n",
    "\n",
    "   #O/P: csestudentS\n",
    "\n",
    "3. Using Lists, U can print only 3 digit numbers from given input list.\n",
    "   and also print their sum.\n",
    "   #Ex: l1=[12,45,787,123,456,2,54,456]\n",
    "\n",
    "4. # Function to find the first and second largest number in a list\n",
    "   #Ex: [1,2,3,4,2,5,8,7,1,2,8,8]\n",
    "    \n",
    "5. #Function to find the nth largest number in a list.\n",
    "   #Ex: l1=[12,45,787,123,456,2,54,456]\n",
    "\n",
    "6. #Function to identify the element with highest freqency in a list\n",
    "#if many elements have the higestfrequency, returns the smallest\n",
    "#HighestFrequency([1,2,3,9,8,7,3,4,2,1])\n"
   ]
  },
  {
   "cell_type": "code",
   "execution_count": null,
   "metadata": {},
   "outputs": [],
   "source": []
  }
 ],
 "metadata": {
  "kernelspec": {
   "display_name": "Python 3",
   "language": "python",
   "name": "python3"
  },
  "language_info": {
   "codemirror_mode": {
    "name": "ipython",
    "version": 3
   },
   "file_extension": ".py",
   "mimetype": "text/x-python",
   "name": "python",
   "nbconvert_exporter": "python",
   "pygments_lexer": "ipython3",
   "version": "3.7.3"
  }
 },
 "nbformat": 4,
 "nbformat_minor": 2
}
