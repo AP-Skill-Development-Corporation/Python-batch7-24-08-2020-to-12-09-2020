{
 "cells": [
  {
   "cell_type": "code",
   "execution_count": null,
   "metadata": {},
   "outputs": [],
   "source": [
    "#Day-12\n",
    "  #Today Agenda:\n",
    "               1. Packages and Modules in Python\n",
    "               2. Regular Expressions \n",
    "               3. Problem Solving."
   ]
  },
  {
   "cell_type": "code",
   "execution_count": null,
   "metadata": {},
   "outputs": [],
   "source": [
    "#Module: Its Nothing but a python file containing python statements,and definitions,functions..etc\n",
    "simple its a .py file.\n",
    "1. User Defined Modules - Created by Users or Programmers\n",
    "2. Pre Defined Modules  - Created by Developers at Construsting the Code"
   ]
  },
  {
   "cell_type": "code",
   "execution_count": 1,
   "metadata": {},
   "outputs": [
    {
     "name": "stdout",
     "output_type": "stream",
     "text": [
      "Even\n"
     ]
    }
   ],
   "source": [
    "#How to create user defined module.\n",
    "def evenadd(n):\n",
    "    if n %2==0:\n",
    "        print(\"Even\")\n",
    "    else:\n",
    "        print(\"Odd\")\n",
    "evenadd(6)"
   ]
  },
  {
   "cell_type": "code",
   "execution_count": 7,
   "metadata": {},
   "outputs": [
    {
     "name": "stdout",
     "output_type": "stream",
     "text": [
      "enter a number6\n"
     ]
    },
    {
     "data": {
      "text/plain": [
       "True"
      ]
     },
     "execution_count": 7,
     "metadata": {},
     "output_type": "execute_result"
    }
   ],
   "source": [
    "#How to Use user defined module?\n",
    "#By using import statement we can use user defined modules.\n",
    "import even                                            #import module name  \n",
    "even.evenodd(n=int(input(\"enter a number\")))          #modulename.functionname(parameters)"
   ]
  },
  {
   "cell_type": "code",
   "execution_count": 9,
   "metadata": {},
   "outputs": [
    {
     "data": {
      "text/plain": [
       "24"
      ]
     },
     "execution_count": 9,
     "metadata": {},
     "output_type": "execute_result"
    }
   ],
   "source": [
    "#Import a module\n",
    "import calc\n",
    "calc.mul(3,8)"
   ]
  },
  {
   "cell_type": "code",
   "execution_count": 13,
   "metadata": {},
   "outputs": [
    {
     "name": "stdout",
     "output_type": "stream",
     "text": [
      "11\n",
      "32\n",
      "10\n",
      "90\n"
     ]
    }
   ],
   "source": [
    "from calc import add,power,sub,mul     #from calc import * - for import all\n",
    "print(calc.add(5,6))\n",
    "print(power(2,5))\n",
    "print(calc.sub(100,90))\n",
    "print(calc.mul(10,9))"
   ]
  },
  {
   "cell_type": "code",
   "execution_count": 27,
   "metadata": {},
   "outputs": [
    {
     "name": "stdout",
     "output_type": "stream",
     "text": [
      "720\n",
      "362880\n",
      "False\n",
      "False\n",
      "True\n"
     ]
    }
   ],
   "source": [
    "import fact1  #from fact1 import ispalindrome,factorial, from fact1 import *\n",
    "print(fact1.factorial(6))\n",
    "print(fact1.factorial(9))\n",
    "print(fact1.ispalindrome(\"apssdc\"))\n",
    "print(fact1.ispalindrome(\"surya\"))\n",
    "print(fact1.ispalindrome(\"madam\"))"
   ]
  },
  {
   "cell_type": "code",
   "execution_count": 28,
   "metadata": {},
   "outputs": [
    {
     "data": {
      "text/plain": [
       "['C:\\\\Users\\\\Mission Impossible\\\\Desktop\\\\Python-Online Workshop Content\\\\Day-6 (Functions And Problem Solving) [29-08-2020]',\n",
       " 'C:\\\\ProgramData\\\\Anaconda3\\\\python37.zip',\n",
       " 'C:\\\\ProgramData\\\\Anaconda3\\\\DLLs',\n",
       " 'C:\\\\ProgramData\\\\Anaconda3\\\\lib',\n",
       " 'C:\\\\ProgramData\\\\Anaconda3',\n",
       " '',\n",
       " 'C:\\\\ProgramData\\\\Anaconda3\\\\lib\\\\site-packages',\n",
       " 'C:\\\\ProgramData\\\\Anaconda3\\\\lib\\\\site-packages\\\\win32',\n",
       " 'C:\\\\ProgramData\\\\Anaconda3\\\\lib\\\\site-packages\\\\win32\\\\lib',\n",
       " 'C:\\\\ProgramData\\\\Anaconda3\\\\lib\\\\site-packages\\\\Pythonwin',\n",
       " 'C:\\\\ProgramData\\\\Anaconda3\\\\lib\\\\site-packages\\\\IPython\\\\extensions',\n",
       " 'C:\\\\Users\\\\Mission Impossible\\\\.ipython']"
      ]
     },
     "execution_count": 28,
     "metadata": {},
     "output_type": "execute_result"
    }
   ],
   "source": [
    "#Search Path for PreDefined Modules\n",
    "import sys\n",
    "sys.path"
   ]
  },
  {
   "cell_type": "code",
   "execution_count": null,
   "metadata": {},
   "outputs": [],
   "source": [
    "#Predefined Modules:\n",
    "1. math\n",
    "2. os module\n",
    "3. random\n",
    "4. sys\n",
    "5. statistics"
   ]
  },
  {
   "cell_type": "code",
   "execution_count": 38,
   "metadata": {},
   "outputs": [
    {
     "name": "stdout",
     "output_type": "stream",
     "text": [
      "114.59155902616465\n",
      "8.0\n",
      "1.0471975511965976\n",
      "0.9092974268256817\n",
      "0.8775825618903728\n",
      "0.36502849483042454\n",
      "120\n"
     ]
    }
   ],
   "source": [
    "#math:\n",
    "import math\n",
    "print(math.degrees(2))\n",
    "print(math.sqrt(64))\n",
    "print(math.radians(60))\n",
    "print(math.sin(2))\n",
    "print(math.cos(0.5))\n",
    "print(math.tan(0.35))\n",
    "print(math.factorial(5))"
   ]
  },
  {
   "cell_type": "code",
   "execution_count": 46,
   "metadata": {},
   "outputs": [
    {
     "name": "stdout",
     "output_type": "stream",
     "text": [
      "2178-05-06\n"
     ]
    }
   ],
   "source": [
    "#time\n",
    "from datetime import date\n",
    "#print(time.ctime())\n",
    "print(date.fromtimestamp(6574748494))"
   ]
  },
  {
   "cell_type": "code",
   "execution_count": 53,
   "metadata": {},
   "outputs": [
    {
     "name": "stdout",
     "output_type": "stream",
     "text": [
      "10.785714285714286\n",
      "7\n",
      "5\n",
      "32.786684289001634\n"
     ]
    }
   ],
   "source": [
    "#statistics module:\n",
    "import statistics\n",
    "print(statistics.mean([3,4,5,6,6,7,7,8,9,2,2,3,34,55]))\n",
    "print(statistics.median([23,4,5,5,6,76,77,7,9]))\n",
    "print(statistics.mode([2,2,2,3,3,3,5,5,5,5,6,7,8,9]))\n",
    "print(statistics.stdev([23,56,89,90,23,90]))"
   ]
  },
  {
   "cell_type": "code",
   "execution_count": null,
   "metadata": {},
   "outputs": [],
   "source": [
    "#How to create user defined packages?\n",
    "  A Package can contains sub packages and any number of modules."
   ]
  },
  {
   "cell_type": "code",
   "execution_count": 66,
   "metadata": {},
   "outputs": [
    {
     "name": "stdout",
     "output_type": "stream",
     "text": [
      "125\n",
      "10000\n"
     ]
    }
   ],
   "source": [
    "#import user defined package:\n",
    "#from packagename import modulename\n",
    "from userPackage import functions3\n",
    "print(functions3.cube(5))\n",
    "print(functions3.sqrt(100))"
   ]
  },
  {
   "cell_type": "code",
   "execution_count": 71,
   "metadata": {},
   "outputs": [
    {
     "name": "stdout",
     "output_type": "stream",
     "text": [
      "['__builtins__', '__cached__', '__doc__', '__file__', '__loader__', '__name__', '__package__', '__spec__', 'cube', 'even', 'sqrt'] None\n",
      "userPackage\n",
      "C:\\Users\\Mission Impossible\\Desktop\\Python-Online Workshop Content\\Day-6 (Functions And Problem Solving) [29-08-2020]\\userPackage\\functions3.py\n",
      "userPackage.functions3\n"
     ]
    }
   ],
   "source": [
    "#We can view the all directories of User Defined Packages and Modules\n",
    "print(dir(functions3),end=\" \")\n",
    "print(functions3.__doc__)\n",
    "print(functions3.__package__)\n",
    "print(functions3.__file__)\n",
    "print(functions3.__name__)"
   ]
  },
  {
   "cell_type": "code",
   "execution_count": 61,
   "metadata": {},
   "outputs": [
    {
     "name": "stdout",
     "output_type": "stream",
     "text": [
      "['__add__', '__class__', '__contains__', '__delattr__', '__delitem__', '__dir__', '__doc__', '__eq__', '__format__', '__ge__', '__getattribute__', '__getitem__', '__gt__', '__hash__', '__iadd__', '__imul__', '__init__', '__init_subclass__', '__iter__', '__le__', '__len__', '__lt__', '__mul__', '__ne__', '__new__', '__reduce__', '__reduce_ex__', '__repr__', '__reversed__', '__rmul__', '__setattr__', '__setitem__', '__sizeof__', '__str__', '__subclasshook__', 'append', 'clear', 'copy', 'count', 'extend', 'index', 'insert', 'pop', 'remove', 'reverse', 'sort'] "
     ]
    }
   ],
   "source": [
    "print(dir(list),end=\" \")"
   ]
  },
  {
   "cell_type": "code",
   "execution_count": null,
   "metadata": {},
   "outputs": [],
   "source": [
    "#Regular Expressions:\n",
    "What is regular expressions?\n",
    "  - Its a sequence of characters that defines a search pattern.\n",
    "  - Its called as RegEx or re module\n",
    "#What is the use of re module?\n",
    "  - It can be used to search, edit and manipulate text/string."
   ]
  },
  {
   "cell_type": "code",
   "execution_count": 72,
   "metadata": {},
   "outputs": [],
   "source": [
    "#How to use the re module?\n",
    "import re\n",
    "  # search pattern can be formed along with some rules:\n",
    "      those rules are including \n",
    "          1. Meta Characters - [],.,^,%,+,?,{},(),\\,|\n",
    "            \n",
    "          2. Special Characters - \\A,\\a,\\S,\\s,\\B,\\d,|D...etc\n",
    "           \n",
    "          3. sets ------ [a-z],{0-9}...etc"
   ]
  },
  {
   "cell_type": "code",
   "execution_count": null,
   "metadata": {},
   "outputs": [],
   "source": [
    "#MetaCharacters:\n",
    "#Character\t      Description\n",
    "\n",
    "[]\t             A set of characters\n",
    "\\\t            Signals a special sequence (can also be used to escape special characters.\n",
    ".\t            Any character (except newline character)\n",
    "^\t            Starts with\t\"^hello\"\t\n",
    "$\t            Ends with\t\"world$\"\t\n",
    "*\t            Zero or more occurrences\t\"aix*\"\t\n",
    "+\t             One or more occurrences\t\"aix+\"\t\n",
    "{}\t             Exactly the specified number of occurrences\t\"al{2}\"\t\n",
    "|\t             Either or\t\"falls|stays\"\t\n",
    "()\t             Capture and group"
   ]
  },
  {
   "cell_type": "code",
   "execution_count": null,
   "metadata": {},
   "outputs": [],
   "source": [
    "#Special Sequences:\n",
    "#Character\t                      Description\n",
    "\\A\t                 Returns a match if the specified characters are at the beginning of the string.\n",
    "\\b\t             Returns a match where the specified characters are at the beginning or at the end of a word\n",
    "                                   (the \"r\" in the beginning is making sure that the string is being treated as a \n",
    "\n",
    "\\B\t                               Returns a match where the specified characters are present, \n",
    "                                    but NOT at the beginning (or at the end) of a word\n",
    "                                    (the \"r\" in the beginning is making sure that the string is being treated as a\n",
    "\\d\t                                Returns a match where the string contains digits (numbers from 0-9)\n",
    "\\D\t                             Returns a match where the string DOES NOT contain digits\n",
    "\\s\t                         Returns a match where the string contains a white space character\n",
    "\\S\t                     Returns a match where the string DOES NOT contain a white space character\n",
    "\\w\t                                 Returns a match where the string contains any word characters \n",
    "                                     (characters from a to Z, digits from 0-9, and the underscore _ character)\t\"\\w\"\t\n",
    "\\W\t                                 Returns a match where the string DOES NOT contain any word characters\n",
    "\\Z\t                                 Returns a match if the specified characters are at the end of the string.\n"
   ]
  },
  {
   "cell_type": "code",
   "execution_count": null,
   "metadata": {},
   "outputs": [],
   "source": [
    "#Sets\n",
    "A set is a set of characters inside a pair of square brackets [] with a special meaning:\n",
    "\n",
    "#Set                         Description\n",
    "[arn]\t                   Returns a match where one of the specified characters (a, r, or n) are present\t\n",
    "[a-n]\t                   Returns a match for any lower case character, alphabetically between a and n\t\n",
    "[^arn]\t                   Returns a match for any character EXCEPT a, r, and n\t\n",
    "[0123]\t                   Returns a match where any of the specified digits (0, 1, 2, or 3) are present\t\n",
    "[0-9]\t                   Returns a match for any digit between 0 and 9\t\n",
    "[0-5][0-9]\t               Returns a match for any two-digit numbers from 00 and 59\t\n",
    "[a-zA-Z]\t               Returns a match for any character alphabetically between a and z, lower case OR upper case\t\n",
    "[+]\t                       In sets, +, *, ., |, (), $,{} has no special meaning, \n",
    "                           so [+] means: return a match for any + character in the string"
   ]
  }
 ],
 "metadata": {
  "kernelspec": {
   "display_name": "Python 3",
   "language": "python",
   "name": "python3"
  },
  "language_info": {
   "codemirror_mode": {
    "name": "ipython",
    "version": 3
   },
   "file_extension": ".py",
   "mimetype": "text/x-python",
   "name": "python",
   "nbconvert_exporter": "python",
   "pygments_lexer": "ipython3",
   "version": "3.7.3"
  }
 },
 "nbformat": 4,
 "nbformat_minor": 2
}
