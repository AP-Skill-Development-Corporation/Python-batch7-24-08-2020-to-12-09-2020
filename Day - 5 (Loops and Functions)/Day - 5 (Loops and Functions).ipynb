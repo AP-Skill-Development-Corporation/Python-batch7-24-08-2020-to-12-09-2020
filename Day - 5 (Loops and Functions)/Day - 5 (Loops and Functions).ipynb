{
 "cells": [
  {
   "cell_type": "code",
   "execution_count": null,
   "metadata": {},
   "outputs": [],
   "source": [
    "#Today Agenda: \n",
    "                     1. Continue to for loop\n",
    "                     2. While Loop\n",
    "                     3. Functions \n",
    "                     4. Problem Solving."
   ]
  },
  {
   "cell_type": "code",
   "execution_count": null,
   "metadata": {},
   "outputs": [],
   "source": [
    "# Range() with for loop:\n",
    "1. range(n) - generates the numbers from 0 to n-1\n",
    "2. range(start,stop) - generates the numbers from start and stop-1\n",
    "3. range(start,stop,step-size)- genearte the numbers with step-size"
   ]
  },
  {
   "cell_type": "code",
   "execution_count": 2,
   "metadata": {},
   "outputs": [
    {
     "data": {
      "text/plain": [
       "[1, 2, 3, 4, 5, 6, 7, 8, 9]"
      ]
     },
     "execution_count": 2,
     "metadata": {},
     "output_type": "execute_result"
    }
   ],
   "source": [
    "list(range(1,10))"
   ]
  },
  {
   "cell_type": "code",
   "execution_count": 9,
   "metadata": {},
   "outputs": [
    {
     "name": "stdout",
     "output_type": "stream",
     "text": [
      "[0, 2, 4, 6, 8, 10, 12, 14, 16, 18, 20, 22, 24, 26, 28, 30, 32, 34, 36, 38, 40, 42, 44, 46, 48, 50, 52, 54, 56, 58, 60, 62, 64, 66, 68, 70, 72, 74, 76, 78, 80, 82, 84, 86, 88, 90, 92, 94, 96, 98] "
     ]
    }
   ],
   "source": [
    "print(list(range(0,100,2)),end=\" \")"
   ]
  },
  {
   "cell_type": "code",
   "execution_count": 11,
   "metadata": {},
   "outputs": [
    {
     "name": "stdout",
     "output_type": "stream",
     "text": [
      "0 1 2 3 4 5 6 7 8 9 10 11 12 13 14 15 16 17 18 19 20 21 22 23 24 25 26 27 28 29 30 31 32 33 34 35 36 37 38 39 40 41 42 43 44 45 46 47 48 49 50 51 52 53 54 55 56 57 58 59 60 61 62 63 64 65 66 67 68 69 70 71 72 73 74 75 76 77 78 79 80 81 82 83 84 85 86 87 88 89 90 91 92 93 94 95 96 97 98 99 \n",
      " All items are iterated\n"
     ]
    }
   ],
   "source": [
    "#For loop with else block:\n",
    "for i in range(100):\n",
    "    print(i,end=\" \")\n",
    "else:\n",
    "    print(\"\\n All items are iterated\")"
   ]
  },
  {
   "cell_type": "code",
   "execution_count": 12,
   "metadata": {},
   "outputs": [
    {
     "name": "stdout",
     "output_type": "stream",
     "text": [
      "0 , 10\n",
      "0 , 11\n",
      "0 , 12\n",
      "0 , 13\n",
      "0 , 14\n",
      "0 , 15\n",
      "0 , 16\n",
      "0 , 17\n",
      "0 , 18\n",
      "0 , 19\n",
      "1 , 10\n",
      "1 , 11\n",
      "1 , 12\n",
      "1 , 13\n",
      "1 , 14\n",
      "1 , 15\n",
      "1 , 16\n",
      "1 , 17\n",
      "1 , 18\n",
      "1 , 19\n",
      "2 , 10\n",
      "2 , 11\n",
      "2 , 12\n",
      "2 , 13\n",
      "2 , 14\n",
      "2 , 15\n",
      "2 , 16\n",
      "2 , 17\n",
      "2 , 18\n",
      "2 , 19\n",
      "3 , 10\n",
      "3 , 11\n",
      "3 , 12\n",
      "3 , 13\n",
      "3 , 14\n",
      "3 , 15\n",
      "3 , 16\n",
      "3 , 17\n",
      "3 , 18\n",
      "3 , 19\n",
      "4 , 10\n",
      "4 , 11\n",
      "4 , 12\n",
      "4 , 13\n",
      "4 , 14\n",
      "4 , 15\n",
      "4 , 16\n",
      "4 , 17\n",
      "4 , 18\n",
      "4 , 19\n"
     ]
    }
   ],
   "source": [
    "#Nested for loop:\n",
    "#if one loop is used in another for loop is called nested for loop.\n",
    "for num1 in range(0,5):\n",
    "    for num2 in range(10,20):\n",
    "        print(num1,\",\",num2)    "
   ]
  },
  {
   "cell_type": "code",
   "execution_count": null,
   "metadata": {},
   "outputs": [],
   "source": [
    "#Break and Continue and Pass statements in for loop:\n",
    "#Break:\n",
    "its used to exit the for loop prematurely.\n",
    "its used to break the for loop when a we met specific condition."
   ]
  },
  {
   "cell_type": "code",
   "execution_count": 18,
   "metadata": {},
   "outputs": [
    {
     "name": "stdout",
     "output_type": "stream",
     "text": [
      "List Contains 3:True\n"
     ]
    }
   ],
   "source": [
    "#Example:\n",
    "li = [1,2,3,4,5,6]   #array type of data structure\n",
    "n = 3\n",
    "found = False\n",
    "for num in li:\n",
    "    if n == num:\n",
    "        found = True\n",
    "        break\n",
    "else:\n",
    "    print(\"for loop is terminated\")\n",
    "print(f'List Contains {n}:{found}')"
   ]
  },
  {
   "cell_type": "code",
   "execution_count": null,
   "metadata": {},
   "outputs": [],
   "source": [
    "#Continue:\n",
    "we can use continue statements inside a for loop to skip the execution of the for loop\n",
    "body for a specific condition."
   ]
  },
  {
   "cell_type": "code",
   "execution_count": 25,
   "metadata": {},
   "outputs": [
    {
     "name": "stdout",
     "output_type": "stream",
     "text": [
      "sum of postive numbers:13\n"
     ]
    }
   ],
   "source": [
    "#example-continue:\n",
    "nums = [1,2,-3,4,-5,6,-8]\n",
    "sum_p = 0\n",
    "for num in nums:\n",
    "    if num < 0:          #skiping the negative numbers\n",
    "        continue\n",
    "    sum_p  = sum_p+num\n",
    "print(f'sum of postive numbers:{sum_p}')"
   ]
  },
  {
   "cell_type": "code",
   "execution_count": null,
   "metadata": {},
   "outputs": [],
   "source": [
    "#pass statement:\n",
    "Its like a null statement\n",
    "The interpreter ignores the comment but pass is not ignored.\n",
    "Its like a no operation(NOP)."
   ]
  },
  {
   "cell_type": "code",
   "execution_count": 32,
   "metadata": {},
   "outputs": [],
   "source": [
    "li = [20,30,70,50,70,100]\n",
    "for val in li:\n",
    "      pass"
   ]
  },
  {
   "cell_type": "code",
   "execution_count": null,
   "metadata": {},
   "outputs": [],
   "source": [
    "#while Loop:\n",
    "Its used to iterate over a block of code repeatedly until a given condition returns False.\n",
    "Note:\n",
    "     difference b/w for loop and while loop:\n",
    "            when we know the number of iterations we need to run the loop- use for loop\n",
    "            otherwise - please go with while loop."
   ]
  },
  {
   "cell_type": "code",
   "execution_count": null,
   "metadata": {},
   "outputs": [],
   "source": [
    "#Synatx:\n",
    "while condition:\n",
    "    #block of statements"
   ]
  },
  {
   "cell_type": "code",
   "execution_count": 1,
   "metadata": {},
   "outputs": [
    {
     "name": "stdout",
     "output_type": "stream",
     "text": [
      "100 98 96 94 92 90 88 86 84 82 80 78 76 74 72 70 68 66 64 62 60 58 56 54 52 50 48 46 44 42 40 38 36 34 32 30 28 26 24 22 20 18 16 14 12 "
     ]
    }
   ],
   "source": [
    "#Example: to print the numbers from 1 to 10\n",
    "num =100\n",
    "while num >10:\n",
    "    print(num,end= \" \")\n",
    "    num = num-2"
   ]
  },
  {
   "cell_type": "code",
   "execution_count": null,
   "metadata": {},
   "outputs": [],
   "source": []
  },
  {
   "cell_type": "code",
   "execution_count": 2,
   "metadata": {},
   "outputs": [
    {
     "name": "stdout",
     "output_type": "stream",
     "text": [
      "1 , 5\n",
      "2 , 6\n",
      "3 , 7\n",
      "4 , 8\n"
     ]
    }
   ],
   "source": [
    "#Nested while loop:\n",
    "i = 1\n",
    "j = 5\n",
    "while i <= 4:\n",
    "    while j <= 8:\n",
    "        print(i, \",\",j)\n",
    "        j = j+1\n",
    "        i = i+1"
   ]
  },
  {
   "cell_type": "code",
   "execution_count": 35,
   "metadata": {},
   "outputs": [
    {
     "name": "stdout",
     "output_type": "stream",
     "text": [
      "10\n",
      "9\n",
      "8\n",
      "7\n"
     ]
    }
   ],
   "source": [
    "#While loop else block:\n",
    "num = 10\n",
    "while num > 6:\n",
    "    print(num)\n",
    "    num = num-1"
   ]
  },
  {
   "cell_type": "code",
   "execution_count": 11,
   "metadata": {},
   "outputs": [
    {
     "name": "stdout",
     "output_type": "stream",
     "text": [
      "11\n",
      "6\n",
      "The number 6 is found\n",
      "Terminating the loop\n",
      "8\n",
      "9\n",
      "88\n",
      "90\n",
      "123\n"
     ]
    }
   ],
   "source": [
    "#Break with While Loop:\n",
    "for num in [11,6,8,9,88,90,123]:\n",
    "    print(num)\n",
    "    while num==6:\n",
    "        print(\"The number 6 is found\")\n",
    "        print(\"Terminating the loop\")\n",
    "        break"
   ]
  },
  {
   "cell_type": "code",
   "execution_count": 27,
   "metadata": {},
   "outputs": [
    {
     "name": "stdout",
     "output_type": "stream",
     "text": [
      "Book(0): C\n",
      "Book(1): C++\n",
      "Book(2): java\n",
      "Book(3): python\n"
     ]
    }
   ],
   "source": [
    "#Print the Values with index:\n",
    "books = [\"C\",\"C++\",\"java\",\"python\"]\n",
    "for index in range(len(books)):\n",
    "    print('Book(%d):' % index,books[index])"
   ]
  },
  {
   "cell_type": "code",
   "execution_count": null,
   "metadata": {},
   "outputs": [],
   "source": [
    "#Functions:\n",
    "Function is a group of related statements that perfomrs a specific task.\n",
    "why use functions?\n",
    " 1. To avoid code repition\n",
    " 2. To make our Complex program into smaller sub programs for easy degug.\n",
    " 3. write once and Use any times. (code resuabilty)"
   ]
  },
  {
   "cell_type": "code",
   "execution_count": null,
   "metadata": {},
   "outputs": [],
   "source": [
    "#How to create functions:\n",
    "def funtionname(paraementers): # formal parameters\n",
    "    \"\"\"doc string\"\"\"\n",
    "    #block of statements\n",
    "    return\n",
    "functionname(paramenters) #function calling with calling parameters(actual parameters)"
   ]
  },
  {
   "cell_type": "code",
   "execution_count": 22,
   "metadata": {},
   "outputs": [
    {
     "name": "stdout",
     "output_type": "stream",
     "text": [
      "['False', 'None', 'True', 'and', 'as', 'assert', 'async', 'await', 'break', 'class', 'continue', 'def', 'del', 'elif', 'else', 'except', 'finally', 'for', 'from', 'global', 'if', 'import', 'in', 'is', 'lambda', 'nonlocal', 'not', 'or', 'pass', 'raise', 'return', 'try', 'while', 'with', 'yield'] "
     ]
    }
   ],
   "source": [
    "import keyword\n",
    "print((keyword.kwlist),end=\" \")"
   ]
  },
  {
   "cell_type": "code",
   "execution_count": 33,
   "metadata": {},
   "outputs": [
    {
     "name": "stdout",
     "output_type": "stream",
     "text": [
      "enter your namesurya\n",
      "Hello,surya Good Evening to All\n"
     ]
    }
   ],
   "source": [
    "#Example for Function:\n",
    "def displayname(name):\n",
    "    \"\"\"This is a Function to Display Your Name\"\"\"   #Doc string\n",
    "    print(\"Hello,\" + name +\" Good Evening to All\")\n",
    "name = input(\"enter your name\")  #dynamic parameter\n",
    "displayname(name)"
   ]
  },
  {
   "cell_type": "code",
   "execution_count": null,
   "metadata": {},
   "outputs": [],
   "source": [
    "#Day- 5 (Today Tasks)\n",
    "\n",
    "1. find the given number is palindrome or not.\n",
    "2. check the given number is prime or not.\n",
    "3. Print the given year is leap or not.\n",
    "4. print the leap years in given range of years.\n",
    "5. print the math table as up to given number\n",
    "6. To check the given number is positive or not.\n",
    "7. Print the swaping of given actual numbers\n",
    "8. Program to do the basic calculator operations."
   ]
  }
 ],
 "metadata": {
  "kernelspec": {
   "display_name": "Python 3",
   "language": "python",
   "name": "python3"
  },
  "language_info": {
   "codemirror_mode": {
    "name": "ipython",
    "version": 3
   },
   "file_extension": ".py",
   "mimetype": "text/x-python",
   "name": "python",
   "nbconvert_exporter": "python",
   "pygments_lexer": "ipython3",
   "version": "3.7.3"
  }
 },
 "nbformat": 4,
 "nbformat_minor": 2
}
