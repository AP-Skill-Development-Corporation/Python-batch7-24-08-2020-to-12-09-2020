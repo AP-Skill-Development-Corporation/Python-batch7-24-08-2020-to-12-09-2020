{
 "cells": [
  {
   "cell_type": "markdown",
   "metadata": {},
   "source": [
    "- Today Agenda:\n",
    "    - Inheritance\n",
    "    - Packages and Modules using OOP's\n",
    "\n",
    "    \n",
    "    "
   ]
  },
  {
   "cell_type": "markdown",
   "metadata": {},
   "source": [
    "# Inheritance\n",
    "\n",
    "- We can create a class which uses all the properties and behaviour of another class\n",
    "- *Child class*- The new another class name is called as **child class** or **Derived Class** or **sub class**\n",
    "    - Syn:\n",
    "        - class Childclass:\n",
    "            - Here we use Parent class properties also\n",
    "- *Parent class*- The one whose properties are acquired is known as **Base class** or **parent class** or **Super class**\n",
    "    - syn:\n",
    "        - class Parentclass:\n",
    "\n",
    "- Inheritance is also used for **code re-usuabulity**\n",
    "\n"
   ]
  },
  {
   "cell_type": "markdown",
   "metadata": {},
   "source": [
    "### Types Of Inheritance:\n",
    "- **Single Inheritance**- (One parent ,One child)\n",
    "- **Multiple Inheritance**-(Multiple parents(father and mother),Onechild)\n",
    "- **Multi level Inheritance**-(grand father,father,son)\n",
    "- **Hierarchical Inheritance**-(Single parent,multiple childs)"
   ]
  },
  {
   "cell_type": "markdown",
   "metadata": {},
   "source": [
    "![\"This is Inheritance\"](Inheritance-1.png)"
   ]
  },
  {
   "cell_type": "code",
   "execution_count": 5,
   "metadata": {},
   "outputs": [],
   "source": [
    "### Single Inheritance- (One parent ,One child)\n",
    "\n",
    "class Parent():\n",
    "    i=50\n",
    "    j=90\n",
    "    def show():\n",
    "        print(\"I am from Parent class\")\n",
    "class Child():\n",
    "    x=10\n",
    "    y=40\n",
    "    def show1():\n",
    "        print(\"I am from Child class\")"
   ]
  },
  {
   "cell_type": "code",
   "execution_count": 6,
   "metadata": {},
   "outputs": [
    {
     "name": "stdout",
     "output_type": "stream",
     "text": [
      "50\n",
      "90\n",
      "I am from Parent class\n",
      "None\n"
     ]
    },
    {
     "ename": "AttributeError",
     "evalue": "type object 'Parent' has no attribute 'x'",
     "output_type": "error",
     "traceback": [
      "\u001b[1;31m---------------------------------------------------------------------------\u001b[0m",
      "\u001b[1;31mAttributeError\u001b[0m                            Traceback (most recent call last)",
      "\u001b[1;32m<ipython-input-6-080185c8a08f>\u001b[0m in \u001b[0;36m<module>\u001b[1;34m\u001b[0m\n\u001b[0;32m      4\u001b[0m \u001b[0mprint\u001b[0m\u001b[1;33m(\u001b[0m\u001b[0mobj\u001b[0m\u001b[1;33m.\u001b[0m\u001b[0mshow\u001b[0m\u001b[1;33m(\u001b[0m\u001b[1;33m)\u001b[0m\u001b[1;33m)\u001b[0m\u001b[1;33m\u001b[0m\u001b[1;33m\u001b[0m\u001b[0m\n\u001b[0;32m      5\u001b[0m \u001b[1;31m# here we called child class properties with parent class calling\u001b[0m\u001b[1;33m\u001b[0m\u001b[1;33m\u001b[0m\u001b[1;33m\u001b[0m\u001b[0m\n\u001b[1;32m----> 6\u001b[1;33m \u001b[0mprint\u001b[0m\u001b[1;33m(\u001b[0m\u001b[0mobj\u001b[0m\u001b[1;33m.\u001b[0m\u001b[0mx\u001b[0m\u001b[1;33m)\u001b[0m\u001b[1;33m\u001b[0m\u001b[1;33m\u001b[0m\u001b[0m\n\u001b[0m\u001b[0;32m      7\u001b[0m \u001b[0mprint\u001b[0m\u001b[1;33m(\u001b[0m\u001b[0mobj\u001b[0m\u001b[1;33m.\u001b[0m\u001b[0my\u001b[0m\u001b[1;33m)\u001b[0m\u001b[1;33m\u001b[0m\u001b[1;33m\u001b[0m\u001b[0m\n\u001b[0;32m      8\u001b[0m \u001b[0mprint\u001b[0m\u001b[1;33m(\u001b[0m\u001b[0mobj\u001b[0m\u001b[1;33m.\u001b[0m\u001b[0mshow1\u001b[0m\u001b[1;33m(\u001b[0m\u001b[1;33m)\u001b[0m\u001b[1;33m)\u001b[0m\u001b[1;33m\u001b[0m\u001b[1;33m\u001b[0m\u001b[0m\n",
      "\u001b[1;31mAttributeError\u001b[0m: type object 'Parent' has no attribute 'x'"
     ]
    }
   ],
   "source": [
    "obj=Parent # Parent class \n",
    "print(obj.i)\n",
    "print(obj.j)\n",
    "print(obj.show())\n",
    "# here we called child class properties with parent class calling\n",
    "print(obj.x)\n",
    "print(obj.y)\n",
    "print(obj.show1())\n"
   ]
  },
  {
   "cell_type": "code",
   "execution_count": 4,
   "metadata": {},
   "outputs": [
    {
     "ename": "AttributeError",
     "evalue": "type object 'Child' has no attribute 'x'",
     "output_type": "error",
     "traceback": [
      "\u001b[1;31m---------------------------------------------------------------------------\u001b[0m",
      "\u001b[1;31mAttributeError\u001b[0m                            Traceback (most recent call last)",
      "\u001b[1;32m<ipython-input-4-875952868bf1>\u001b[0m in \u001b[0;36m<module>\u001b[1;34m\u001b[0m\n\u001b[0;32m      1\u001b[0m \u001b[0mobj\u001b[0m\u001b[1;33m=\u001b[0m\u001b[0mChild\u001b[0m \u001b[1;31m# child class\u001b[0m\u001b[1;33m\u001b[0m\u001b[1;33m\u001b[0m\u001b[0m\n\u001b[1;32m----> 2\u001b[1;33m \u001b[0mprint\u001b[0m\u001b[1;33m(\u001b[0m\u001b[0mobj\u001b[0m\u001b[1;33m.\u001b[0m\u001b[0mx\u001b[0m\u001b[1;33m)\u001b[0m\u001b[1;33m\u001b[0m\u001b[1;33m\u001b[0m\u001b[0m\n\u001b[0m\u001b[0;32m      3\u001b[0m \u001b[0mprint\u001b[0m\u001b[1;33m(\u001b[0m\u001b[0mobj\u001b[0m\u001b[1;33m.\u001b[0m\u001b[0my\u001b[0m\u001b[1;33m)\u001b[0m\u001b[1;33m\u001b[0m\u001b[1;33m\u001b[0m\u001b[0m\n\u001b[0;32m      4\u001b[0m \u001b[0mprint\u001b[0m\u001b[1;33m(\u001b[0m\u001b[0mobj\u001b[0m\u001b[1;33m.\u001b[0m\u001b[0mshow1\u001b[0m\u001b[1;33m(\u001b[0m\u001b[1;33m)\u001b[0m\u001b[1;33m)\u001b[0m\u001b[1;33m\u001b[0m\u001b[1;33m\u001b[0m\u001b[0m\n\u001b[0;32m      5\u001b[0m \u001b[1;31m# Parent class calling with child class\u001b[0m\u001b[1;33m\u001b[0m\u001b[1;33m\u001b[0m\u001b[1;33m\u001b[0m\u001b[0m\n",
      "\u001b[1;31mAttributeError\u001b[0m: type object 'Child' has no attribute 'x'"
     ]
    }
   ],
   "source": [
    "obj=Child # child class \n",
    "print(obj.x)\n",
    "print(obj.y)\n",
    "print(obj.show1())\n",
    "# Parent class calling with child class\n",
    "print(obj.i)\n",
    "print(obj.j)\n",
    "print(obj.show())"
   ]
  },
  {
   "cell_type": "code",
   "execution_count": 25,
   "metadata": {},
   "outputs": [],
   "source": [
    "## Multiple Inheritance-(Multiple parents(father and mother),Onechild)\n",
    "class Father():\n",
    "    def show():\n",
    "        print(\"I am from Father class\")\n",
    "class Mother():\n",
    "    def show():\n",
    "        print(\"I am from mother class\")\n",
    "class Child():\n",
    "    def show():\n",
    "        print(\"I am from Child class\")"
   ]
  },
  {
   "cell_type": "code",
   "execution_count": 22,
   "metadata": {
    "scrolled": true
   },
   "outputs": [
    {
     "name": "stdout",
     "output_type": "stream",
     "text": [
      "I am from Father class\n",
      "None\n",
      "I am from mother class\n",
      "None\n",
      "I am from Child class\n",
      "None\n"
     ]
    }
   ],
   "source": [
    "obj=Father\n",
    "print(obj.show())\n",
    "obj=Mother\n",
    "print(obj.show())\n",
    "obj=Child\n",
    "print(obj.show())"
   ]
  },
  {
   "cell_type": "code",
   "execution_count": 36,
   "metadata": {},
   "outputs": [],
   "source": [
    "## Multiple Inheritance-(Multiple parents(father and mother),Onechild)\n",
    "class Father():\n",
    "    def show1():\n",
    "        print(\"I am from Father class\")\n",
    "class Mother():\n",
    "    def show2():\n",
    "        print(\"I am from mother class\")\n",
    "class Child(Father,Mother):\n",
    "    def show():\n",
    "        print(\"I am from Child class\")"
   ]
  },
  {
   "cell_type": "code",
   "execution_count": 40,
   "metadata": {},
   "outputs": [
    {
     "name": "stdout",
     "output_type": "stream",
     "text": [
      "I am from mother class\n",
      "I am from Father class\n",
      "I am from Child class\n"
     ]
    }
   ],
   "source": [
    "obj=Child\n",
    "obj.show2()\n",
    "obj.show1()\n",
    "obj.show()\n",
    "obj=Father\n",
    "obj=Mother"
   ]
  },
  {
   "cell_type": "code",
   "execution_count": 35,
   "metadata": {},
   "outputs": [
    {
     "name": "stdout",
     "output_type": "stream",
     "text": [
      "I am from Child class\n",
      "I am from Grand Father class\n",
      "I am from Father class\n"
     ]
    },
    {
     "ename": "AttributeError",
     "evalue": "type object 'Child' has no attribute 'classGF'",
     "output_type": "error",
     "traceback": [
      "\u001b[1;31m---------------------------------------------------------------------------\u001b[0m",
      "\u001b[1;31mAttributeError\u001b[0m                            Traceback (most recent call last)",
      "\u001b[1;32m<ipython-input-35-449d81ea4e4e>\u001b[0m in \u001b[0;36m<module>\u001b[1;34m\u001b[0m\n\u001b[0;32m     16\u001b[0m \u001b[0mobj\u001b[0m\u001b[1;33m=\u001b[0m\u001b[0mChild\u001b[0m\u001b[1;33m\u001b[0m\u001b[1;33m\u001b[0m\u001b[0m\n\u001b[0;32m     17\u001b[0m \u001b[0mobj\u001b[0m\u001b[1;33m.\u001b[0m\u001b[0mclassC\u001b[0m\u001b[1;33m(\u001b[0m\u001b[1;33m)\u001b[0m\u001b[1;33m\u001b[0m\u001b[1;33m\u001b[0m\u001b[0m\n\u001b[1;32m---> 18\u001b[1;33m \u001b[0mobj\u001b[0m\u001b[1;33m.\u001b[0m\u001b[0mclassGF\u001b[0m\u001b[1;33m(\u001b[0m\u001b[1;33m)\u001b[0m\u001b[1;33m\u001b[0m\u001b[1;33m\u001b[0m\u001b[0m\n\u001b[0m",
      "\u001b[1;31mAttributeError\u001b[0m: type object 'Child' has no attribute 'classGF'"
     ]
    }
   ],
   "source": [
    "## Multi Level Inheritance\n",
    "\n",
    "class Grandfather:\n",
    "    def classGF():\n",
    "        print(\"I am from Grand Father class\")\n",
    "class Father:\n",
    "    def classF():\n",
    "        print(\"I am from Father class\")\n",
    "class Child:\n",
    "    def classC():\n",
    "        print(\"I am from Child class\")\n",
    "        print(\"I am from Grand Father class\")\n",
    "        print(\"I am from Father class\")\n",
    "\n",
    "        \n",
    "obj=Child\n",
    "obj.classC()\n",
    "obj.classGF()\n"
   ]
  },
  {
   "cell_type": "code",
   "execution_count": 6,
   "metadata": {},
   "outputs": [
    {
     "name": "stdout",
     "output_type": "stream",
     "text": [
      "This is our family:\n",
      "Father : Narayana\n",
      "Mother : Rani\n"
     ]
    }
   ],
   "source": [
    "class Family:\n",
    "    def show_family(self):\n",
    "        print(\"This is our family:\")\n",
    " \n",
    " \n",
    "# Father class inherited from Family\n",
    "class Father(Family):\n",
    "    fathername = \"\"\n",
    " \n",
    "    def show_father(self):\n",
    "        print(self.fathername)\n",
    " \n",
    " \n",
    "# Mother class inherited from Family\n",
    "class Mother(Family):\n",
    "    mothername = \"\"\n",
    " \n",
    "    def show_mother(self):\n",
    "        print(self.mothername)\n",
    " \n",
    " \n",
    "# Son class inherited from Father and Mother classes\n",
    "class Son(Father, Mother):\n",
    "    def show_parent(self):\n",
    "        print(\"Father :\", self.fathername)\n",
    "        print(\"Mother :\", self.mothername)\n",
    " \n",
    " \n",
    "s1 = Son()  # Object of Son class\n",
    "s1.fathername = \"Narayana\"\n",
    "s1.mothername = \"Rani\"\n",
    "s1.show_family()\n",
    "s1.show_parent()"
   ]
  },
  {
   "cell_type": "code",
   "execution_count": null,
   "metadata": {},
   "outputs": [],
   "source": [
    "## Hybrid Inheritance\n",
    "- All types of Inheritance \n",
    "- Hybrid Inheritance is a combination of multiple and multi level inheritance\n",
    "\n",
    "\n",
    "Ex:\n",
    "    Father Father/Mother\n",
    "            |\n",
    "            |\n",
    "            |\n",
    "            |\n",
    "    Child(grand father,grand mother)\n",
    "            |\n",
    "            |\n",
    "            |\n",
    "            |\n",
    "    Child(Father)\n",
    "            |\n",
    "            |\n",
    "            |\n",
    "            |\n",
    "    grand child(son)"
   ]
  },
  {
   "cell_type": "code",
   "execution_count": 46,
   "metadata": {},
   "outputs": [
    {
     "name": "stdout",
     "output_type": "stream",
     "text": [
      "I am from class A\n",
      "I am from class B\n",
      "I am from class c\n",
      "I am from class D\n",
      "I am from class E\n"
     ]
    }
   ],
   "source": [
    "class A:\n",
    "    def classA():\n",
    "        print(\"I am from class A\")\n",
    "class B:\n",
    "    def classB():\n",
    "        print(\"I am from class B\")\n",
    "class C(A,B):\n",
    "    def classC():\n",
    "        print(\"I am from class c\")\n",
    "class D(C):\n",
    "    def classD():\n",
    "        print(\"I am from class D\")\n",
    "class E(D):\n",
    "    def classE():\n",
    "        print(\"I am from class E\")\n",
    "        \n",
    "\n",
    "obj=E\n",
    "obj.classA()\n",
    "obj.classB()\n",
    "obj.classC()\n",
    "obj.classD()\n",
    "obj.classE()\n",
    "        "
   ]
  },
  {
   "cell_type": "code",
   "execution_count": 51,
   "metadata": {},
   "outputs": [
    {
     "name": "stdout",
     "output_type": "stream",
     "text": [
      "I am from class GF\n",
      "I am from class GM\n",
      "I am from class F\n",
      "I am from class M\n",
      "I am from class C\n"
     ]
    }
   ],
   "source": [
    "class GrandFather:\n",
    "    def classGF():\n",
    "        print(\"I am from class GF\")\n",
    "class GrandMother:\n",
    "    def classGM():\n",
    "        print(\"I am from class GM\")\n",
    "class Father(GrandFather,GrandMother):\n",
    "    def classF():\n",
    "        print(\"I am from class F\")\n",
    "class Mother(Father):\n",
    "    def classM():\n",
    "        print(\"I am from class M\")\n",
    "class Child(Mother):\n",
    "    def classC():\n",
    "        print(\"I am from class C\")\n",
    "        \n",
    "\n",
    "obj=Child\n",
    "obj.classGF()\n",
    "obj.classGM()\n",
    "obj.classF()\n",
    "obj.classM()\n",
    "obj.classC()\n",
    "        "
   ]
  },
  {
   "cell_type": "code",
   "execution_count": null,
   "metadata": {},
   "outputs": [],
   "source": []
  },
  {
   "cell_type": "code",
   "execution_count": null,
   "metadata": {},
   "outputs": [],
   "source": []
  },
  {
   "cell_type": "markdown",
   "metadata": {},
   "source": [
    "# Packages and Modules Using OOP's\n",
    "\n"
   ]
  },
  {
   "cell_type": "markdown",
   "metadata": {},
   "source": [
    "- **Package**(folder)\n",
    "    - It is a collection of Modules\n",
    "    - **Module**\n",
    "        - .py files\n",
    "        - Collection of/group of functions or classes\n",
    "        - for accessing modules we are using \n",
    "            - import keyword\n",
    "        - different ways for accessing modules\n",
    "            - import modulename(.py file)\n",
    "            - from modulename(.py file) import classname/funname\n",
    "            - from modulename.classname/funname import variablename/funname\n",
    "            - from modulename.classname/funname import *"
   ]
  },
  {
   "cell_type": "code",
   "execution_count": 2,
   "metadata": {},
   "outputs": [
    {
     "name": "stdout",
     "output_type": "stream",
     "text": [
      "17\n",
      "56\n"
     ]
    }
   ],
   "source": [
    "from mypackage.mymodule import *\n",
    "obj=Calc\n",
    "print(obj.add(8,9))\n",
    "print(obj.mul(7,8))\n"
   ]
  },
  {
   "cell_type": "code",
   "execution_count": 1,
   "metadata": {},
   "outputs": [
    {
     "name": "stdout",
     "output_type": "stream",
     "text": [
      "17\n",
      "-1\n"
     ]
    }
   ],
   "source": [
    "from mypackage.mymodule import *\n",
    "obj1=Mycalc(8,9)\n",
    "print(obj1.__add__())\n",
    "print(obj1.__sub__())"
   ]
  },
  {
   "cell_type": "code",
   "execution_count": 6,
   "metadata": {},
   "outputs": [
    {
     "name": "stdout",
     "output_type": "stream",
     "text": [
      "2000 leapyear\n",
      "2001 non leap year\n",
      "2002 non leap year\n",
      "2003 non leap year\n",
      "2004 leapyear\n",
      "2005 non leap year\n",
      "2006 non leap year\n",
      "2007 non leap year\n",
      "2008 leapyear\n",
      "2009 non leap year\n",
      "2010 non leap year\n",
      "2011 non leap year\n",
      "2012 leapyear\n",
      "2013 non leap year\n",
      "2014 non leap year\n",
      "2015 non leap year\n",
      "2016 leapyear\n",
      "2017 non leap year\n",
      "2018 non leap year\n",
      "2019 non leap year\n",
      "2020 leapyear\n",
      "None "
     ]
    }
   ],
   "source": [
    "# using normal function\n",
    "from mypackage.mymodule2 import *\n",
    "print(Leapyear(2000,2020),end=\" \")\n"
   ]
  },
  {
   "cell_type": "code",
   "execution_count": 4,
   "metadata": {},
   "outputs": [
    {
     "name": "stdout",
     "output_type": "stream",
     "text": [
      "2000 leapyear\n",
      "2001 non leap year\n",
      "2002 non leap year\n",
      "2003 non leap year\n",
      "2004 leapyear\n",
      "2005 non leap year\n",
      "2006 non leap year\n",
      "2007 non leap year\n",
      "2008 leapyear\n",
      "2009 non leap year\n",
      "2010 non leap year\n",
      "2011 non leap year\n",
      "2012 leapyear\n",
      "2013 non leap year\n",
      "2014 non leap year\n",
      "2015 non leap year\n",
      "2016 leapyear\n",
      "2017 non leap year\n",
      "2018 non leap year\n",
      "2019 non leap year\n",
      "2020 leapyear\n",
      "None\n",
      "\n",
      "       This is leap year file\n",
      "    \n"
     ]
    }
   ],
   "source": [
    "# with using classes and objects in  oops\n",
    "from mypackage.mymodule2 import *\n",
    "myobj1=Myclass\n",
    "print(myobj1.Leapyear(2000,2020))\n",
    "print(myobj1.__doc__)"
   ]
  },
  {
   "cell_type": "code",
   "execution_count": null,
   "metadata": {},
   "outputs": [],
   "source": []
  }
 ],
 "metadata": {
  "kernelspec": {
   "display_name": "Python 3",
   "language": "python",
   "name": "python3"
  },
  "language_info": {
   "codemirror_mode": {
    "name": "ipython",
    "version": 3
   },
   "file_extension": ".py",
   "mimetype": "text/x-python",
   "name": "python",
   "nbconvert_exporter": "python",
   "pygments_lexer": "ipython3",
   "version": "3.7.3"
  }
 },
 "nbformat": 4,
 "nbformat_minor": 2
}
