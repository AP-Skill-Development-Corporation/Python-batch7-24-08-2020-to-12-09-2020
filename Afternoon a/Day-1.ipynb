{
 "cells": [
  {
   "cell_type": "markdown",
   "metadata": {},
   "source": [
    "#  Welcome to Python Online Session"
   ]
  },
  {
   "cell_type": "markdown",
   "metadata": {},
   "source": [
    "## what is  Python ?\n",
    "\n",
    "- Python is a Programming Language\n",
    "    - Mediator b/w hardware and software\n",
    "    - A language is a software which is provide some set of pre defined instructions to develop applications ,which is called as a programming tool\n",
    "- **Defination** : Python is a \n",
    "    - Simple and easy\n",
    "    - General Purpose(**Python**) -(Any type of applications we developed through python)  \n",
    "        - Ex: mobile it has all features like cam,calc,music ,video,audio\n",
    "        - **other languages**: Purpose based(COBAL-(business applications),FORTRAN-(complicated mathematical applications),PASCEL-(Scientific applications))\n",
    "            - Ex: \n",
    "                - calc(only for calculations)\n",
    "                - camera(only for pics and video recording)\n",
    "                - radio (for recording and audios)\n",
    "    - interpreted language ( Step by step execution ...so we fing errors easily )\n",
    "    - object oriented language\n",
    "        - class\n",
    "        - object\n",
    "        - Inheritance \n",
    "        - Data abstaction\n",
    "        - encapsulation\n",
    "    - high level language(Human and system understandable language)\n",
    "    \n"
   ]
  },
  {
   "cell_type": "markdown",
   "metadata": {},
   "source": [
    "### Introduced by\n",
    "- Python is Introduced by **Guido Van Rossum** \n",
    "- He started **implement in 1989** and **release in 1991**\n"
   ]
  },
  {
   "cell_type": "markdown",
   "metadata": {},
   "source": [
    "### Why named this programming language asa python ?\n",
    "- The name is came from BBC's comedy tv show **flying circus(1970's)**\n",
    "- As he is a big fan of that show and also he wanted a **short ,unique and slightly mysterious**\n",
    "- So he decided to put name as a **monty python** and it will be changed as **python**\n"
   ]
  },
  {
   "cell_type": "markdown",
   "metadata": {},
   "source": [
    "### Python Features:\n",
    "- cross platform language(supported in Different platforms)\n",
    "- free and open sourse\n",
    "- OObj\n",
    "- Large standered Libraries\n",
    "- Integrated\n",
    "- Expressive language\n",
    "- easy syntax and easy learn\n",
    "    \n",
    "\n",
    "    \n",
    "    "
   ]
  },
  {
   "cell_type": "markdown",
   "metadata": {},
   "source": [
    "## Anaconda downloaded Procedure steps:\n",
    "\n",
    "1. Double click the installer to launch.\n",
    "2. Click Next.\n",
    "3. Read the licensing terms and click “I Agree”.\n",
    "4. Select an install for “Just Me” unless you’re installing for all users (which requires Windows Administrator privileges) and click Next.\n",
    "5. Select a destination folder to install Anaconda and click the Next button.\n",
    "6. Choose whether to add Anaconda to your PATH environment variable. We recommend not adding Anaconda to the PATH environment variable, since this can interfere with other software. Instead, use Anaconda software by opening Anaconda Navigator or the Anaconda Prompt from the Start Menu.\n",
    "7. Choose whether to register Anaconda as your default Python. Unless you plan on installing and running multiple versions of Anaconda or multiple versions of Python, accept the default and leave this box checked.\n",
    "8. Click the Install button. If you want to watch the packages Anaconda is installing, click Show Details.\n",
    "9. Click the Next button.\n",
    "\n",
    "Go to this link for detailed steps [Anaconda steps](https://docs.anaconda.com/anaconda/install/windows/)\n"
   ]
  },
  {
   "cell_type": "markdown",
   "metadata": {},
   "source": [
    "### Python Applications\n",
    "\n",
    "1. Web developement (drop box,google,youtube,etc..,)\n",
    "2. Game development\n",
    "3. Multimedia\n",
    "4. Scientific applications(NASA)\n",
    "5. Bussiness Applications\n",
    "6. Audio - Video based applications\n",
    "7. software development\n",
    "8. GUI Based Applications\n",
    "9. Artificial Intelligence\n",
    "10. Machine Learning \n",
    "11. Deep Learning  etc..,\n",
    "\n",
    "\n"
   ]
  },
  {
   "cell_type": "markdown",
   "metadata": {},
   "source": [
    "### Python Versions\n",
    "- Python 1.0 ,jan 1994 \n",
    "- python 2.0 , oct 2000\n",
    "- python 2.7 , july 2010\n",
    "#### After 8 years they stop python2 versions and will lanch python 3 versions only\n",
    "- python 3.0 , dec 2008\n",
    "- python 3.8.5 .july 2020\n",
    "- now  We are using python 3   \n",
    "- Latest version is python 3.8.5\n",
    "\n",
    "\n",
    "**now They didnt develop python 2 versions only python3 only developing**"
   ]
  },
  {
   "cell_type": "markdown",
   "metadata": {},
   "source": [
    "## Python idle\n",
    "1. Select Version of Python to Install. \n",
    "2. Download Python Executable Installer.\n",
    "\n",
    "![image](python-versions.png)\n",
    "\n",
    "3. Run Executable Installer. Here you dont forget to check the path checkbox\n",
    "![image](python-setup.png)\n",
    "\n",
    "4. Verify Python Was Installed On Windows.\n",
    "![image](verify-python-install-1.png)\n",
    "5. Verify Pip Was Installed. (This is for further adv topics time we need to install libraries)\n",
    "    - If not installed you get following output\n",
    "\n",
    "    - ’pip’ is not recognized as an internal or external command, Operable program or batch file\n",
    "    \n",
    "    \n",
    "\n",
    "6. Add Python Path to Environment Variables (Optional)  (This is for windows 7 )\n",
    "\n",
    "\n",
    "**Go to this link for detailed idle installation steps** [idle installation steps](https://phoenixnap.com/kb/how-to-install-python-3-windows)"
   ]
  },
  {
   "cell_type": "markdown",
   "metadata": {},
   "source": [
    "## Differences between Idle and Anaconda\n",
    "#### Anaconda\n",
    "- Anaconda isn't an editor its just a python distribution that bundles a bunch of packages (numpy, scipy etc) and lot of libraries. \n",
    "\n",
    "#### IDLE / IDE (Integrated Developing Learning Environment)\n",
    "- IDLE is just an editor."
   ]
  },
  {
   "cell_type": "markdown",
   "metadata": {},
   "source": [
    "### This is shell It has two types\n",
    "\n",
    "1. **code**: For coding block\n",
    "2. **markdown**: For documentation\n"
   ]
  },
  {
   "cell_type": "code",
   "execution_count": 8,
   "metadata": {},
   "outputs": [
    {
     "name": "stdout",
     "output_type": "stream",
     "text": [
      "hello world\n"
     ]
    }
   ],
   "source": [
    "print(\"hello world\")"
   ]
  },
  {
   "cell_type": "code",
   "execution_count": 6,
   "metadata": {},
   "outputs": [
    {
     "name": "stdout",
     "output_type": "stream",
     "text": [
      "hai\n",
      "welcome\n",
      "Python Programming\n"
     ]
    }
   ],
   "source": [
    "print(\"hai\")\n",
    "print(\"welcome\")\n",
    "print(\"Python Programming\")"
   ]
  },
  {
   "cell_type": "markdown",
   "metadata": {},
   "source": [
    "## Output checking\n",
    "\n",
    "- shift+enter\n",
    "- ctrl +enter"
   ]
  },
  {
   "cell_type": "code",
   "execution_count": null,
   "metadata": {},
   "outputs": [],
   "source": []
  }
 ],
 "metadata": {
  "kernelspec": {
   "display_name": "Python 3",
   "language": "python",
   "name": "python3"
  },
  "language_info": {
   "codemirror_mode": {
    "name": "ipython",
    "version": 3
   },
   "file_extension": ".py",
   "mimetype": "text/x-python",
   "name": "python",
   "nbconvert_exporter": "python",
   "pygments_lexer": "ipython3",
   "version": "3.7.3"
  }
 },
 "nbformat": 4,
 "nbformat_minor": 2
}
