{
 "cells": [
  {
   "cell_type": "code",
   "execution_count": null,
   "metadata": {},
   "outputs": [],
   "source": []
  },
  {
   "cell_type": "code",
   "execution_count": null,
   "metadata": {},
   "outputs": [],
   "source": [
    "#### Student names\n",
    "\n",
    "- Vijaya Pedapati - 1,2,3,4,5,6\n",
    "- vimala Pedapati -1,2,3,4,5,6\n",
    "- Jahnavi-1,2,3,4,5,6\n",
    "- Lavanya Andluru - 1,2\n"
   ]
  },
  {
   "cell_type": "code",
   "execution_count": 42,
   "metadata": {},
   "outputs": [
    {
     "name": "stdout",
     "output_type": "stream",
     "text": [
      "Enter string: Good evening Guys , #             Welcome to online python programming #             Every day we have evening session @ 4  pm to 6.30 pm #             conducted by #             ' Indu Priya ' #             'Surya' #             'Satya Narayana' #             !@#$\"\"\" #        a. count number of alphabets, #        b.numbers, #        c. special chars in a string\n",
      "Number of alphabets:  172\n",
      "Number of Digits:  4\n",
      "Number of Special char:  31\n"
     ]
    }
   ],
   "source": [
    "#Task-1\n",
    "\n",
    "# input :\n",
    "#        string = \"\"\"Good evening Guys ,\n",
    "#             Welcome to online python programming\n",
    "#             Every day we have evening session @ 4  pm to 6.30 pm\n",
    "#             conducted by\n",
    "#             ' Indu Priya '\n",
    "#             'Surya'\n",
    "#             'Satya Narayana'\n",
    "#             !@#$\"\"\"\n",
    "#        a. count number of alphabets,\n",
    "#        b.numbers,\n",
    "#        c. special chars in a string\n",
    "\n",
    "def StringCount(string):\n",
    "    alphabets = digits = characters = 0\n",
    "    for i in string:\n",
    "        if (i.isalpha()):\n",
    "            alphabets += 1\n",
    "        elif (i.isdigit()):\n",
    "            digits += 1\n",
    "        elif (i.isspace()==False):\n",
    "            characters += 1\n",
    "    print(\"Number of alphabets: \",alphabets)\n",
    "    print(\"Number of Digits: \",digits)\n",
    "    print(\"Number of Special char: \",characters)\n",
    "    return\n",
    "string = input(\"Enter string: \")\n",
    "StringCount(string)\n"
   ]
  },
  {
   "cell_type": "code",
   "execution_count": 11,
   "metadata": {},
   "outputs": [
    {
     "name": "stdout",
     "output_type": "stream",
     "text": [
      "Enter string: A P S S D C\n",
      "Apssdc\n"
     ]
    }
   ],
   "source": [
    "# Task-2\n",
    "\n",
    "# input - A P S S D C\n",
    "# output - Apssdc\n",
    "\n",
    "string= input(\"Enter string: \")\n",
    "string2 = string[::2].lower()\n",
    "print(string2.capitalize())"
   ]
  },
  {
   "cell_type": "code",
   "execution_count": 19,
   "metadata": {},
   "outputs": [
    {
     "name": "stdout",
     "output_type": "stream",
     "text": [
      "Enter your name : Pokuri InduPriya\n",
      "P.InduPriya\n"
     ]
    }
   ],
   "source": [
    "# Task- 3\n",
    "#      input - surname full name\n",
    "#              Pokuri Indu Priya\n",
    "#       output - P. Indu Priya\n",
    "\n",
    "\n",
    "# second way\n",
    "original_name = input(\"Enter your name : \")\n",
    "name = original_name.partition(' ')\n",
    "print(name[0][0]+'.'+name[-1])"
   ]
  },
  {
   "cell_type": "code",
   "execution_count": 33,
   "metadata": {},
   "outputs": [
    {
     "name": "stdout",
     "output_type": "stream",
     "text": [
      "Enter a string:  APSSDC,InduPriya,Surya,Satya Narayana,Lucky,Mouni,Roja,Narayana,Kumar,Toy,Doll,Teddy,Puppy\n",
      "APSSDC,Lucky,Kumar,Toy,Doll,Teddy,Puppy,"
     ]
    }
   ],
   "source": [
    "# Task-4\n",
    "#  print words which are not ends with vowels\n",
    "#      input -- APSSDC,InduPriya,Surya,Satya Narayana,Lucky,Mouni,Roja,Narayana,Kumar,Toy,Doll,Teddy,Puppy\n",
    "#       output -- APSSDC,Lucky,Kumar,Toy,Doll,Teddy,Puppy\n",
    "\n",
    "\n",
    "def vowel(x):\n",
    "    if (x == 'a' or x == 'e' or x == 'i' or x == 'o' or x == 'u'\n",
    "        or x == 'A' or x == 'E' or x == 'I' or x == 'O' or x == 'U'): \n",
    "        return True\n",
    "    return False\n",
    "\n",
    "string = input(\"Enter a string:  \")\n",
    "name_list = string.split(\",\")\n",
    "for i in name_list:\n",
    "    if not(vowel(i[-1])):\n",
    "        print(i, end = ',')"
   ]
  },
  {
   "cell_type": "code",
   "execution_count": 36,
   "metadata": {},
   "outputs": [
    {
     "name": "stdout",
     "output_type": "stream",
     "text": [
      "Enter a string:  python\n",
      "p t h n "
     ]
    }
   ],
   "source": [
    "# Task-5\n",
    "# print even ASCII characters from input string\n",
    "#      input - python\n",
    "#      output- p t h n\n",
    "\n",
    "\n",
    "mystr = input(\"Enter a string:  \")\n",
    "\n",
    "for i in mystr:\n",
    "    if ord(i) % 2 == 0:\n",
    "        print(i, end = ' ')"
   ]
  },
  {
   "cell_type": "code",
   "execution_count": 39,
   "metadata": {},
   "outputs": [
    {
     "name": "stdout",
     "output_type": "stream",
     "text": [
      "enter a string:Indu\n",
      "ndu\n"
     ]
    }
   ],
   "source": [
    "# Task-6\n",
    "# Given a string of odd length greater 7, return a string made of the middle three chars of a given String\n",
    "\n",
    "def middilestring(s1):\n",
    "    midindex = int(len(s1)/2)\n",
    "    #print(midindex)\n",
    "    midstr = s1[midindex-1:midindex+2]\n",
    "    print(midstr)\n",
    "    \n",
    "middilestring(input(\"enter a string:\"))\n"
   ]
  },
  {
   "cell_type": "code",
   "execution_count": 40,
   "metadata": {},
   "outputs": [
    {
     "name": "stdout",
     "output_type": "stream",
     "text": [
      "enter a string:Priya\n",
      "riy\n"
     ]
    }
   ],
   "source": [
    "middilestring(input(\"enter a string:\"))"
   ]
  },
  {
   "cell_type": "code",
   "execution_count": 41,
   "metadata": {},
   "outputs": [
    {
     "name": "stdout",
     "output_type": "stream",
     "text": [
      "enter a string:Apssdc\n",
      "ssd\n"
     ]
    }
   ],
   "source": [
    "middilestring(input(\"enter a string:\"))"
   ]
  },
  {
   "cell_type": "code",
   "execution_count": null,
   "metadata": {},
   "outputs": [],
   "source": []
  }
 ],
 "metadata": {
  "kernelspec": {
   "display_name": "Python 3",
   "language": "python",
   "name": "python3"
  },
  "language_info": {
   "codemirror_mode": {
    "name": "ipython",
    "version": 3
   },
   "file_extension": ".py",
   "mimetype": "text/x-python",
   "name": "python",
   "nbconvert_exporter": "python",
   "pygments_lexer": "ipython3",
   "version": "3.7.3"
  }
 },
 "nbformat": 4,
 "nbformat_minor": 2
}
