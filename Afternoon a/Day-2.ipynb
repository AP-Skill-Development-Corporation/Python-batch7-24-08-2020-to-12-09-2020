{
 "cells": [
  {
   "cell_type": "markdown",
   "metadata": {},
   "source": [
    "## Markdown Format"
   ]
  },
  {
   "cell_type": "markdown",
   "metadata": {},
   "source": [
    "**We have a short cut keys using markdown format**\n",
    "\n",
    "- esc+h  --> To visible list of shortcut keys in markdown format\n",
    "- for running code   \n",
    "    - ctrl+enter\n",
    "    - shift + enter\n",
    "    \n",
    "    \n",
    "**Literate Programming :**\n",
    "- Both combination of documentation and coading\n",
    "    "
   ]
  },
  {
   "cell_type": "markdown",
   "metadata": {},
   "source": [
    "Hi Welcome to APSSDC Online Session   ----- This is a paragragh ..We didint gave any special character/symbol for this paragraph"
   ]
  },
  {
   "cell_type": "markdown",
   "metadata": {},
   "source": [
    "### Markdown Language:\n",
    "- It is designed as a HTML language\n",
    "- So it support some of HTML tags also"
   ]
  },
  {
   "cell_type": "code",
   "execution_count": 2,
   "metadata": {},
   "outputs": [
    {
     "ename": "SyntaxError",
     "evalue": "invalid syntax (<ipython-input-2-5562d5788c0b>, line 3)",
     "output_type": "error",
     "traceback": [
      "\u001b[1;36m  File \u001b[1;32m\"<ipython-input-2-5562d5788c0b>\"\u001b[1;36m, line \u001b[1;32m3\u001b[0m\n\u001b[1;33m    Heading ---   <h1>,<h2>,...<h6>\u001b[0m\n\u001b[1;37m                  ^\u001b[0m\n\u001b[1;31mSyntaxError\u001b[0m\u001b[1;31m:\u001b[0m invalid syntax\n"
     ]
    }
   ],
   "source": [
    "### In HTML\n",
    "\n",
    "Heading ---   <h1>,<h2>,...<h6>\n",
    "paragraph --- <p> </p>\n",
    "line break --- <br>\n",
    "<b></b>\n",
    "<itallic></itallic>\n",
    "\n",
    "\n",
    "order list\n",
    "\n",
    "<ol>\n",
    "    <li>\n",
    "    <li>\n",
    "    <li>\n",
    "</ol>\n",
    "\n",
    "\n",
    "\n",
    "links=<a href = \"www.google.com\">Google</a>"
   ]
  },
  {
   "cell_type": "markdown",
   "metadata": {},
   "source": [
    "# In Markdown"
   ]
  },
  {
   "cell_type": "markdown",
   "metadata": {},
   "source": [
    "# Heading \n",
    "# This is Heading\n",
    "##  This is Heading\n",
    "### This is Heading\n",
    "#### This is Heading\n",
    "##### This is Heading\n",
    "###### This is Heading\n",
    "\n",
    "####### This is Heading   ----This is not correct format for displaying heading thats why default it takes as a paragraph so thats why I worte\n",
    "\n",
    "Heading in another way  It is a first heading\n",
    "====================\n",
    "\n",
    "\n",
    "Heading 2 in another way \n",
    "-------------------------------------\n",
    "\n",
    "\n",
    "APSSDC\n",
    "=======\n",
    "\n",
    "\n",
    "APSSDC\n",
    "-------------\n"
   ]
  },
  {
   "cell_type": "markdown",
   "metadata": {},
   "source": [
    "# Paragraph\n",
    "\n",
    "Hi Welcome to APSSDC Online Session   ----- This is a paragragh ..We didint gave any special character/symbol for this paragraph"
   ]
  },
  {
   "cell_type": "markdown",
   "metadata": {},
   "source": [
    "The name is came from BBC's comedy tv show flying circus(1970's)\n",
    "\n",
    "\n",
    "As he is a big fan of that show and also he wanted a short ,unique and slightly mysterious \n",
    "\n",
    "\n",
    "So he decided to put name as a <br> monty python and it will be changed as python\n",
    "Python Features:"
   ]
  },
  {
   "cell_type": "markdown",
   "metadata": {},
   "source": [
    "# Break line  (br)"
   ]
  },
  {
   "cell_type": "markdown",
   "metadata": {},
   "source": [
    "So he decided to put name as a <br> monty python and it will be changed as <br> python Python Features:"
   ]
  },
  {
   "cell_type": "markdown",
   "metadata": {},
   "source": [
    "# Bold (**    **)   (__ __)"
   ]
  },
  {
   "cell_type": "markdown",
   "metadata": {},
   "source": [
    "The name is came from BBC's comedy tv show **flying circus(1970's)** <br>\n",
    "As he is a big fan of that show and also he wanted a short ,unique and slightly mysterious\n",
    "So he decided to put name as a monty python and it will be changed as python"
   ]
  },
  {
   "cell_type": "markdown",
   "metadata": {},
   "source": [
    "# Itallic (* *      _     _   )\n",
    "  \n",
    "As he is a big fan of that show and also he wanted a *short ,unique and slightly mysterious*"
   ]
  },
  {
   "cell_type": "markdown",
   "metadata": {},
   "source": [
    "# Both bold and itallic(***  ***)\n",
    "\n",
    "As he is a big fan of that show and also he wanted a ***short ,unique and slightly mysterious***\n",
    "\n",
    "As he is a big fan of that show and also he wanted a ___short ,unique and slightly mysterious___"
   ]
  },
  {
   "cell_type": "markdown",
   "metadata": {},
   "source": [
    "# Block quotes\n",
    "\n",
    "\n",
    "> This is a block quote\n",
    "\n",
    "\n",
    "This is a block quote\n",
    "\n",
    "\n",
    "> This is a block quote\n",
    ">> This is a block quote\n",
    ">>> This is a block quote\n",
    ">>>>> This is a block quote\n",
    "\n",
    "\n",
    ">                         This is a block quote\n",
    "\n",
    "\n",
    "\n",
    "> This is a block quote\n",
    ">> This is a block quote\n",
    ">>> This is a block quote\n",
    ">>>>> This is a block quote"
   ]
  },
  {
   "cell_type": "markdown",
   "metadata": {},
   "source": [
    "# APSSDC\n",
    "## APSSDC\n",
    "\n"
   ]
  },
  {
   "cell_type": "markdown",
   "metadata": {},
   "source": [
    "# Order List\n",
    "\n",
    "### Hello welcome to python online session \n",
    "#### This is the 7 th batch\n",
    "\n",
    "We are organizers\n",
    "\n",
    "<ol>\n",
    "    <li>Indu Priya</li>\n",
    "    <li>Surya</li>\n",
    "    <li>Satya Narayana</li>\n",
    "</ol>"
   ]
  },
  {
   "cell_type": "markdown",
   "metadata": {},
   "source": [
    "<ol>\n",
    "    <li>Indu Priya</li>\n",
    "    <li>Surya</li>\n",
    "    <li>Satya Narayana</li>\n",
    "</ol>"
   ]
  },
  {
   "cell_type": "markdown",
   "metadata": {},
   "source": [
    "<ul>\n",
    "    <li>Indu Priya</li>\n",
    "    <li>Surya</li>\n",
    "    <li>Satya Narayana</li>\n",
    "</ul>"
   ]
  },
  {
   "cell_type": "markdown",
   "metadata": {},
   "source": [
    "1. This is first one\n",
    "2. Two\n",
    "3. Three\n"
   ]
  },
  {
   "cell_type": "markdown",
   "metadata": {},
   "source": [
    "1. one\n",
    "1. one \n",
    "1. one"
   ]
  },
  {
   "cell_type": "markdown",
   "metadata": {},
   "source": [
    "A. one\n",
    "B. one\n",
    "c. one"
   ]
  },
  {
   "cell_type": "markdown",
   "metadata": {},
   "source": [
    "<ol>\n",
    "    <li>Indu Priya</li>\n",
    "    <li>Surya</li>\n",
    "    <li>Satya Narayana</li>\n",
    "</ol>"
   ]
  },
  {
   "cell_type": "markdown",
   "metadata": {},
   "source": [
    "- this is unorder list\n",
    "- one \n",
    "- two"
   ]
  },
  {
   "cell_type": "markdown",
   "metadata": {},
   "source": [
    "* one \n",
    "* two \n",
    "* Three"
   ]
  },
  {
   "cell_type": "markdown",
   "metadata": {},
   "source": [
    "+ one \n",
    "+ Two \n",
    "+ Three"
   ]
  },
  {
   "cell_type": "markdown",
   "metadata": {},
   "source": [
    "# Links"
   ]
  },
  {
   "cell_type": "markdown",
   "metadata": {},
   "source": [
    "<a href = \"www.google.com\" >Google</a>  <br>\n",
    "\n",
    "\n",
    "<a href =\"http://engineering.apssdc.in/ \"> www.engineering.apssdc.in</a>\n",
    "\n",
    "<a href = \"http://engineering.apssdc.in\"> APSSDC</a>\n",
    "\n",
    "\n",
    "Hi welcome to <a href = \"http://engineering.apssdc.in\"> APSSDC</a>  website    \n",
    "\n",
    "\n",
    "\n",
    "\n",
    "### Another way for links\n",
    "\n",
    "\n",
    "[APSSDC](http://engineering.apssdc.in) <br>\n",
    "[Gmail](https://accounts.google.com/)"
   ]
  },
  {
   "cell_type": "markdown",
   "metadata": {},
   "source": [
    "# Images\n",
    "\n",
    "\n",
    "<img src=\"apssdc.png\" />\n",
    "<img src=\"apssdc.png\"  height=50 width=50 />\n",
    "<img src=\"apssdc.png\"  height=50 width=50 align=\"left\"/>\n",
    "<img src=\"apssdc.png\"  height=50 width=50 align=\"right\"/>\n",
    "<img src=\"apssdc1.png\"  height=50 width=50 align=\"right\"/>\n",
    "\n",
    "\n",
    "# in markdown\n",
    "\n",
    "![This is APSSDC Image](apssdc.png)\n",
    "![This is APSSDC Image](apssdc1.png) # if we gave wrong display like this\n",
    "![This is Python Image](python.jpg)\n",
    "\n",
    "\n"
   ]
  },
  {
   "cell_type": "markdown",
   "metadata": {},
   "source": [
    "### Video\n",
    "\n",
    "<video controls src= \"myvideo.mp4\"/>\n",
    "\n"
   ]
  },
  {
   "cell_type": "markdown",
   "metadata": {},
   "source": [
    "<video controls src= \"myvideo.mp4\"  height=\"50\" width=\"50\"  />"
   ]
  },
  {
   "cell_type": "markdown",
   "metadata": {},
   "source": [
    "<video controls src= \"myvideo.mp4\"  height=\"100\" width=\"100\"  />"
   ]
  },
  {
   "cell_type": "markdown",
   "metadata": {},
   "source": [
    "# URLs\n",
    "\n",
    "<indupriya.p@apssdc.in><br>\n",
    "<http://engineering.apssdc.in/>"
   ]
  },
  {
   "cell_type": "code",
   "execution_count": null,
   "metadata": {},
   "outputs": [],
   "source": []
  }
 ],
 "metadata": {
  "kernelspec": {
   "display_name": "Python 3",
   "language": "python",
   "name": "python3"
  },
  "language_info": {
   "codemirror_mode": {
    "name": "ipython",
    "version": 3
   },
   "file_extension": ".py",
   "mimetype": "text/x-python",
   "name": "python",
   "nbconvert_exporter": "python",
   "pygments_lexer": "ipython3",
   "version": "3.7.3"
  }
 },
 "nbformat": 4,
 "nbformat_minor": 2
}
