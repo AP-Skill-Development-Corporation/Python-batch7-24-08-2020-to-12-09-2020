{
 "cells": [
  {
   "cell_type": "markdown",
   "metadata": {},
   "source": [
    "### Object Oriented Programming \n",
    "\n",
    "- Python is also a Object Oriented Programming Language(OOP's)\n",
    "- It allows us to develop applications using oops approach\n",
    "- OOPs is used to design the program using classes and objects\n",
    "- In python we can easily create and use classes and objects\n",
    "- The OOP's concept focuss on writing the reusuable code..\n",
    "\n",
    "\n",
    "- ***Principles of OOPs***\n",
    "    - Class\n",
    "    - Object\n",
    "    - Constructor\n",
    "    - Inheritance\n",
    "\n",
    "\n"
   ]
  },
  {
   "cell_type": "markdown",
   "metadata": {},
   "source": [
    "Ex: \n",
    " #### car \n",
    "                 (Instance)\n",
    " class(design)------------------->  object(procedure)\n",
    "                                            \n",
    " - object(procedure)\n",
    "     - Attributes(properties)\n",
    "         - color   # black\n",
    "         - wheels #alloy\n",
    "         - Fuel  # Petrol\n",
    "      - Methods(Functions)\n",
    "         - Moving one place to another place\n",
    "         - AC\n",
    "         - Breaks\n",
    "         - Playing music\n",
    "         - Playing Movies\n",
    "         \n",
    "                                                    "
   ]
  },
  {
   "cell_type": "markdown",
   "metadata": {},
   "source": [
    "### Class\n",
    "- A class is a plan or blue print or model for an object to be created.\n",
    "- It is a collection of objects(blueprint or design)\n",
    "\n",
    "- syn:\n",
    "    - class Classname():\n",
    "        - list of variables\n",
    "        - list of methods\n",
    "        \n",
    "- Ex: car    \n",
    "\n",
    "- collection of variables and methods and functions\n",
    "- Functions : Collection of statements\n",
    "- Methods : If function is existed inside the class then it is calles as method\n",
    "- class is a keyword for creating class structure\n",
    "    - Rules of class name\n",
    "        - class name starts with capital letter\n",
    "- class and object are inter related with each other\n",
    "\n",
    "- ex: \n",
    "    - class Classname():\n",
    "        - list of variables\n",
    "        - list of methods                                                                                                       "
   ]
  },
  {
   "cell_type": "markdown",
   "metadata": {},
   "source": [
    "###  class"
   ]
  },
  {
   "cell_type": "code",
   "execution_count": 69,
   "metadata": {},
   "outputs": [],
   "source": [
    "class Classname:\n",
    "    var1=\"variablename1\"\n",
    "    var2=\"variablename2\"\n",
    "    var3=\"variablename3\"\n",
    "    def myfun():\n",
    "        print(\"This is class with function\")"
   ]
  },
  {
   "cell_type": "code",
   "execution_count": 70,
   "metadata": {},
   "outputs": [
    {
     "name": "stdout",
     "output_type": "stream",
     "text": [
      "variablename1\n",
      "variablename2\n",
      "variablename3\n",
      "This is class with function\n",
      "None\n"
     ]
    }
   ],
   "source": [
    "print(Classname.var1)\n",
    "print(Classname.var2)\n",
    "print(Classname.var3)\n",
    "print(Classname.myfun())\n"
   ]
  },
  {
   "cell_type": "code",
   "execution_count": 71,
   "metadata": {},
   "outputs": [],
   "source": [
    "class Hello:  # stating with capital letter\n",
    "    name= \"InduPriya\" # coll of variables\n",
    "    rollno =\"36\"  # coll of variables\n",
    "    desig=\"Technical skill Trainer cum Developer\"  # coll of variables\n",
    "    def hi():  # coll of functions\n",
    "        print(\"Welcome to Online Python Programming\")\n",
    "    "
   ]
  },
  {
   "cell_type": "code",
   "execution_count": 72,
   "metadata": {},
   "outputs": [
    {
     "data": {
      "text/plain": [
       "'Technical skill Trainer cum Developer'"
      ]
     },
     "execution_count": 72,
     "metadata": {},
     "output_type": "execute_result"
    }
   ],
   "source": [
    "Hello.desig  # classname.var_name"
   ]
  },
  {
   "cell_type": "code",
   "execution_count": 8,
   "metadata": {},
   "outputs": [
    {
     "name": "stdout",
     "output_type": "stream",
     "text": [
      "Welcome to Online Python Programming\n"
     ]
    }
   ],
   "source": [
    "Hello.hi()"
   ]
  },
  {
   "cell_type": "code",
   "execution_count": 9,
   "metadata": {},
   "outputs": [
    {
     "data": {
      "text/plain": [
       "'InduPriya'"
      ]
     },
     "execution_count": 9,
     "metadata": {},
     "output_type": "execute_result"
    }
   ],
   "source": [
    "Hello.name"
   ]
  },
  {
   "cell_type": "code",
   "execution_count": 10,
   "metadata": {},
   "outputs": [
    {
     "data": {
      "text/plain": [
       "'36'"
      ]
     },
     "execution_count": 10,
     "metadata": {},
     "output_type": "execute_result"
    }
   ],
   "source": [
    "Hello.rollno"
   ]
  },
  {
   "cell_type": "markdown",
   "metadata": {},
   "source": [
    "## Object :\n",
    "\n",
    "- Object is a product which was created according to the plan defined in a class\n",
    "- Every object  we have certain attributes and behavior\n",
    "- We can define a class, It needs to create an object to allocate the memory\n",
    "- We can create no of objects \n",
    "\n",
    "\n",
    "### object(procedure)\n",
    "Ex: \n",
    " ## car \n",
    "              (Instance)\n",
    " class(design)===============>  object(procedure)\n",
    "                                            \n",
    " - object(procedure)\n",
    "     - Attributes(properties)\n",
    "         - color   # black\n",
    "         - wheels #alloy\n",
    "         - Fuel  # Petrol\n",
    "     - Methods(Functions)\n",
    "         - Moving one place to another place\n",
    "         - AC\n",
    "         - Breaks\n",
    "         - Playing music\n",
    "         - Playing Movies\n",
    "         \n",
    "                          \n",
    "                                    \n",
    "                                    \n",
    "EX:2:\n",
    "- **Human** \n",
    "    - (height,weight,name)-----> **Attributes**------> **variables**\n",
    "    - (Walking,sleeping,drinking,playing,talking)---->**behaviour**----->**methods**\n",
    "\n",
    "    \n",
    "- Object is an instance of class (copy of class)\n",
    "- Object is a real time entity\n",
    "- Same rules for creating an object like variables\n",
    "\n",
    "- Syn:\n",
    "    - obj_name = Class_name()"
   ]
  },
  {
   "cell_type": "markdown",
   "metadata": {},
   "source": [
    "## Object"
   ]
  },
  {
   "cell_type": "code",
   "execution_count": 35,
   "metadata": {
    "scrolled": true
   },
   "outputs": [
    {
     "name": "stdout",
     "output_type": "stream",
     "text": [
      "variablename1\n",
      "variablename2\n",
      "variablename3\n",
      "This is class with function\n",
      "None\n"
     ]
    }
   ],
   "source": [
    "object=Classname\n",
    "print(object.var1)\n",
    "print(object.var2)\n",
    "print(object.var3)\n",
    "print(object.myfun())"
   ]
  },
  {
   "cell_type": "code",
   "execution_count": 18,
   "metadata": {},
   "outputs": [
    {
     "name": "stdout",
     "output_type": "stream",
     "text": [
      "<class '__main__.Hello'>\n",
      "<class 'type'>\n"
     ]
    }
   ],
   "source": [
    "obj_name=Hello\n",
    "print(obj_name)\n",
    "print(type(obj_name))"
   ]
  },
  {
   "cell_type": "code",
   "execution_count": 13,
   "metadata": {},
   "outputs": [
    {
     "name": "stdout",
     "output_type": "stream",
     "text": [
      "['__class__', '__delattr__', '__dict__', '__dir__', '__doc__', '__eq__', '__format__', '__ge__', '__getattribute__', '__gt__', '__hash__', '__init__', '__init_subclass__', '__le__', '__lt__', '__module__', '__ne__', '__new__', '__reduce__', '__reduce_ex__', '__repr__', '__setattr__', '__sizeof__', '__str__', '__subclasshook__', '__weakref__', 'desig', 'hi', 'name', 'rollno'] "
     ]
    }
   ],
   "source": [
    "print(dir(obj_name),end=\" \")"
   ]
  },
  {
   "cell_type": "code",
   "execution_count": 15,
   "metadata": {},
   "outputs": [
    {
     "ename": "AttributeError",
     "evalue": "type object 'Hello' has no attribute 'Hello'",
     "output_type": "error",
     "traceback": [
      "\u001b[1;31m---------------------------------------------------------------------------\u001b[0m",
      "\u001b[1;31mAttributeError\u001b[0m                            Traceback (most recent call last)",
      "\u001b[1;32m<ipython-input-15-e978d15d355d>\u001b[0m in \u001b[0;36m<module>\u001b[1;34m\u001b[0m\n\u001b[1;32m----> 1\u001b[1;33m \u001b[0mprint\u001b[0m\u001b[1;33m(\u001b[0m\u001b[0mobj_name\u001b[0m\u001b[1;33m.\u001b[0m\u001b[0mHello\u001b[0m\u001b[1;33m)\u001b[0m\u001b[1;33m\u001b[0m\u001b[1;33m\u001b[0m\u001b[0m\n\u001b[0m",
      "\u001b[1;31mAttributeError\u001b[0m: type object 'Hello' has no attribute 'Hello'"
     ]
    }
   ],
   "source": [
    "print(obj_name.Hello) # here i am calling class name"
   ]
  },
  {
   "cell_type": "code",
   "execution_count": 19,
   "metadata": {},
   "outputs": [
    {
     "name": "stdout",
     "output_type": "stream",
     "text": [
      "36\n"
     ]
    }
   ],
   "source": [
    "print(obj_name.rollno)# variable calling with object"
   ]
  },
  {
   "cell_type": "code",
   "execution_count": 20,
   "metadata": {},
   "outputs": [
    {
     "name": "stdout",
     "output_type": "stream",
     "text": [
      "InduPriya\n"
     ]
    }
   ],
   "source": [
    "print(obj_name.name)# variable calling with object"
   ]
  },
  {
   "cell_type": "code",
   "execution_count": 21,
   "metadata": {},
   "outputs": [
    {
     "name": "stdout",
     "output_type": "stream",
     "text": [
      "Technical skill Trainer cum Developer\n"
     ]
    }
   ],
   "source": [
    "print(obj_name.desig) # variable calling with object"
   ]
  },
  {
   "cell_type": "code",
   "execution_count": 22,
   "metadata": {},
   "outputs": [
    {
     "name": "stdout",
     "output_type": "stream",
     "text": [
      "Welcome to Online Python Programming\n"
     ]
    }
   ],
   "source": [
    "obj_name.hi() # function calling with object"
   ]
  },
  {
   "cell_type": "code",
   "execution_count": 23,
   "metadata": {},
   "outputs": [
    {
     "data": {
      "text/plain": [
       "2076231331208"
      ]
     },
     "execution_count": 23,
     "metadata": {},
     "output_type": "execute_result"
    }
   ],
   "source": [
    "id(obj_name)"
   ]
  },
  {
   "cell_type": "code",
   "execution_count": 24,
   "metadata": {},
   "outputs": [
    {
     "ename": "NameError",
     "evalue": "name 'obj_name1' is not defined",
     "output_type": "error",
     "traceback": [
      "\u001b[1;31m---------------------------------------------------------------------------\u001b[0m",
      "\u001b[1;31mNameError\u001b[0m                                 Traceback (most recent call last)",
      "\u001b[1;32m<ipython-input-24-48723470ee68>\u001b[0m in \u001b[0;36m<module>\u001b[1;34m\u001b[0m\n\u001b[1;32m----> 1\u001b[1;33m \u001b[0mid\u001b[0m\u001b[1;33m(\u001b[0m\u001b[0mobj_name1\u001b[0m\u001b[1;33m)\u001b[0m\u001b[1;33m\u001b[0m\u001b[1;33m\u001b[0m\u001b[0m\n\u001b[0m",
      "\u001b[1;31mNameError\u001b[0m: name 'obj_name1' is not defined"
     ]
    }
   ],
   "source": [
    "id(obj_name)"
   ]
  },
  {
   "cell_type": "code",
   "execution_count": 26,
   "metadata": {},
   "outputs": [],
   "source": [
    "obj=Hello"
   ]
  },
  {
   "cell_type": "code",
   "execution_count": 28,
   "metadata": {},
   "outputs": [
    {
     "name": "stdout",
     "output_type": "stream",
     "text": [
      "InduPriya\n"
     ]
    }
   ],
   "source": [
    "print(obj.name)"
   ]
  },
  {
   "cell_type": "code",
   "execution_count": 29,
   "metadata": {},
   "outputs": [
    {
     "data": {
      "text/plain": [
       "2076231331208"
      ]
     },
     "execution_count": 29,
     "metadata": {},
     "output_type": "execute_result"
    }
   ],
   "source": [
    "id(obj)"
   ]
  },
  {
   "cell_type": "code",
   "execution_count": 37,
   "metadata": {},
   "outputs": [],
   "source": [
    "## ex:\n",
    "\n",
    "class Calculator:\n",
    "    def add(n1,n2):\n",
    "        return n1+n2\n",
    "    def sub(n1,n2):\n",
    "        return n1-n2"
   ]
  },
  {
   "cell_type": "code",
   "execution_count": 40,
   "metadata": {},
   "outputs": [
    {
     "name": "stdout",
     "output_type": "stream",
     "text": [
      "17\n",
      "-1\n"
     ]
    }
   ],
   "source": [
    "# syn obj\n",
    "# objname=classname\n",
    "\n",
    "mycalc=Calculator\n",
    "# print(objectname.classname(parameters))\n",
    "print(mycalc.add(8,9))\n",
    "print(mycalc.sub(8,9))"
   ]
  },
  {
   "cell_type": "code",
   "execution_count": 41,
   "metadata": {},
   "outputs": [
    {
     "data": {
      "text/plain": [
       "17"
      ]
     },
     "execution_count": 41,
     "metadata": {},
     "output_type": "execute_result"
    }
   ],
   "source": [
    "Calculator.add(8,9)"
   ]
  },
  {
   "cell_type": "code",
   "execution_count": 49,
   "metadata": {},
   "outputs": [
    {
     "name": "stdout",
     "output_type": "stream",
     "text": [
      "<class 'type'>\n",
      "i4 16GB 4G\n"
     ]
    }
   ],
   "source": [
    "# ex 2:\n",
    "\n",
    "class MyComputer:\n",
    "    def config(self): # comp1\n",
    "        print(\"i4\",\"16GB\",\"4G\")\n",
    "print(type(MyComputer))\n",
    "comp1=MyComputer()\n",
    "comp1.config()"
   ]
  },
  {
   "cell_type": "code",
   "execution_count": 47,
   "metadata": {},
   "outputs": [
    {
     "ename": "TypeError",
     "evalue": "config() missing 1 required positional argument: 'self'",
     "output_type": "error",
     "traceback": [
      "\u001b[1;31m---------------------------------------------------------------------------\u001b[0m",
      "\u001b[1;31mTypeError\u001b[0m                                 Traceback (most recent call last)",
      "\u001b[1;32m<ipython-input-47-4b87e73939a8>\u001b[0m in \u001b[0;36m<module>\u001b[1;34m\u001b[0m\n\u001b[0;32m      5\u001b[0m         \u001b[0mprint\u001b[0m\u001b[1;33m(\u001b[0m\u001b[1;34m\"i4\"\u001b[0m\u001b[1;33m,\u001b[0m\u001b[1;34m\"16GB\"\u001b[0m\u001b[1;33m,\u001b[0m\u001b[1;34m\"4G\"\u001b[0m\u001b[1;33m)\u001b[0m\u001b[1;33m\u001b[0m\u001b[1;33m\u001b[0m\u001b[0m\n\u001b[0;32m      6\u001b[0m \u001b[0mcomp1\u001b[0m\u001b[1;33m=\u001b[0m\u001b[0mMyComputer\u001b[0m\u001b[1;33m\u001b[0m\u001b[1;33m\u001b[0m\u001b[0m\n\u001b[1;32m----> 7\u001b[1;33m \u001b[0mcomp1\u001b[0m\u001b[1;33m.\u001b[0m\u001b[0mconfig\u001b[0m\u001b[1;33m(\u001b[0m\u001b[1;33m)\u001b[0m\u001b[1;33m\u001b[0m\u001b[1;33m\u001b[0m\u001b[0m\n\u001b[0m",
      "\u001b[1;31mTypeError\u001b[0m: config() missing 1 required positional argument: 'self'"
     ]
    }
   ],
   "source": [
    "# ex 2:\n",
    "\n",
    "class MyComputer:\n",
    "    def config(self): # comp1\n",
    "        print(\"i4\",\"16GB\",\"4G\")\n",
    "comp1=MyComputer  # here i didnt use paranthesis after class name \n",
    "comp1.config()"
   ]
  },
  {
   "cell_type": "markdown",
   "metadata": {},
   "source": [
    "## Constructor\n",
    "- Constructor is special type of method(function) which is used to initilize members of the class\n",
    "### Create the Constructor in Python\n",
    "- In python , the method init() this is the constructor of the class\n",
    "- It accept the self keywords a first argument \n",
    "\n",
    "- Syntax:\n",
    "    class Classname():\n",
    "        def __init__(self): \n",
    "            - default parametter it self\n",
    "        def __init__(self,a,b) \n",
    "            - first variable acts as a default parameter\n",
    "        def __init__(a,b,self) \n",
    "            - first varible acts as a default self parameter ,So, Here a is a default parameter"
   ]
  },
  {
   "cell_type": "code",
   "execution_count": 73,
   "metadata": {},
   "outputs": [
    {
     "name": "stdout",
     "output_type": "stream",
     "text": [
      "8\n",
      "9\n",
      "7\n"
     ]
    }
   ],
   "source": [
    "class Calc():\n",
    "    def __init__(self,a,b,c):\n",
    "        self.a1=a\n",
    "        self.b1=b\n",
    "        self.c1=c\n",
    "    def display(self):\n",
    "        print(self.a1)\n",
    "        print(self.b1)\n",
    "        print(self.c1)\n",
    "calculator=Calc(8,9,7)\n",
    "calculator.display()\n",
    "    "
   ]
  },
  {
   "cell_type": "code",
   "execution_count": 44,
   "metadata": {},
   "outputs": [
    {
     "name": "stdout",
     "output_type": "stream",
     "text": [
      "8\n",
      "9\n",
      "7\n"
     ]
    }
   ],
   "source": [
    "class Calc:\n",
    "    def __init__(self,a,b,c):\n",
    "        self.a1=a\n",
    "        self.b1=b\n",
    "        self.c1=c\n",
    "    def display(self):\n",
    "        print(self.a1)\n",
    "        print(self.b1)\n",
    "        print(self.c1)\n",
    "calculator=Calc(8,9,7)\n",
    "calculator.display()    "
   ]
  },
  {
   "cell_type": "code",
   "execution_count": 74,
   "metadata": {},
   "outputs": [
    {
     "name": "stdout",
     "output_type": "stream",
     "text": [
      "10\n",
      "23\n",
      "56\n"
     ]
    }
   ],
   "source": [
    "calculator=Calc(10,23,56)\n",
    "calculator.display()"
   ]
  },
  {
   "cell_type": "code",
   "execution_count": 55,
   "metadata": {},
   "outputs": [
    {
     "name": "stdout",
     "output_type": "stream",
     "text": [
      "9\n",
      "4\n"
     ]
    }
   ],
   "source": [
    "class Calc1():\n",
    "    def __init__(a,b,c):  # here a is a self parameter\n",
    "        a.b=b\n",
    "        a.c=c\n",
    "    def display(a):\n",
    "        print(a.b)\n",
    "        print(a.c)\n",
    "myobj=Calc1(9,4)\n",
    "myobj.display()"
   ]
  },
  {
   "cell_type": "code",
   "execution_count": 56,
   "metadata": {},
   "outputs": [
    {
     "name": "stdout",
     "output_type": "stream",
     "text": [
      "I am Init function\n"
     ]
    }
   ],
   "source": [
    "#ex3:\n",
    "\n",
    "class Computer:\n",
    "    def __init__(self):\n",
    "        print(\"I am Init function\")\n",
    "    def config(self):\n",
    "        print(\"i4\",\"64GB\",\"4G\")\n",
    "objname=Computer()"
   ]
  },
  {
   "cell_type": "markdown",
   "metadata": {},
   "source": [
    "- Without using object we will call a function\n",
    "- Create the object for class but dont use the object to call the function"
   ]
  },
  {
   "cell_type": "code",
   "execution_count": 57,
   "metadata": {},
   "outputs": [
    {
     "name": "stdout",
     "output_type": "stream",
     "text": [
      "I am Init function\n"
     ]
    }
   ],
   "source": [
    "objname1=Computer()"
   ]
  },
  {
   "cell_type": "code",
   "execution_count": 58,
   "metadata": {},
   "outputs": [
    {
     "name": "stdout",
     "output_type": "stream",
     "text": [
      "I am Init function\n"
     ]
    }
   ],
   "source": [
    "objname2=Computer()"
   ]
  },
  {
   "cell_type": "code",
   "execution_count": 60,
   "metadata": {},
   "outputs": [
    {
     "ename": "TypeError",
     "evalue": "__init__() missing 2 required positional arguments: 'ram' and 'CPU'",
     "output_type": "error",
     "traceback": [
      "\u001b[1;31m---------------------------------------------------------------------------\u001b[0m",
      "\u001b[1;31mTypeError\u001b[0m                                 Traceback (most recent call last)",
      "\u001b[1;32m<ipython-input-60-db7e8ace68c9>\u001b[0m in \u001b[0;36m<module>\u001b[1;34m\u001b[0m\n\u001b[0;32m      5\u001b[0m     \u001b[1;32mdef\u001b[0m \u001b[0mconfig\u001b[0m\u001b[1;33m(\u001b[0m\u001b[0mself\u001b[0m\u001b[1;33m)\u001b[0m\u001b[1;33m:\u001b[0m\u001b[1;33m\u001b[0m\u001b[1;33m\u001b[0m\u001b[0m\n\u001b[0;32m      6\u001b[0m         \u001b[0mprint\u001b[0m\u001b[1;33m(\u001b[0m\u001b[1;34m\"this config is \"\u001b[0m\u001b[1;33m,\u001b[0m \u001b[0mself\u001b[0m\u001b[1;33m.\u001b[0m\u001b[0mCPU\u001b[0m\u001b[1;33m,\u001b[0m\u001b[0mself\u001b[0m\u001b[1;33m.\u001b[0m\u001b[0mram\u001b[0m\u001b[1;33m)\u001b[0m\u001b[1;33m\u001b[0m\u001b[1;33m\u001b[0m\u001b[0m\n\u001b[1;32m----> 7\u001b[1;33m \u001b[0mobj3\u001b[0m\u001b[1;33m=\u001b[0m\u001b[0mComputer\u001b[0m\u001b[1;33m(\u001b[0m\u001b[1;33m)\u001b[0m\u001b[1;33m\u001b[0m\u001b[1;33m\u001b[0m\u001b[0m\n\u001b[0m",
      "\u001b[1;31mTypeError\u001b[0m: __init__() missing 2 required positional arguments: 'ram' and 'CPU'"
     ]
    }
   ],
   "source": [
    "class  Computer:\n",
    "    def __init__(self,ram,CPU):\n",
    "        self.ram=ram\n",
    "        self.CPU=CPU\n",
    "    def config(self): \n",
    "        print(\"this config is \", self.CPU,self.ram)\n",
    "obj3=Computer() # here i am missing the arguments in computer class"
   ]
  },
  {
   "cell_type": "code",
   "execution_count": 61,
   "metadata": {},
   "outputs": [
    {
     "name": "stdout",
     "output_type": "stream",
     "text": [
      "this config is  i4 4G\n"
     ]
    }
   ],
   "source": [
    "class  Computer:\n",
    "    def __init__(self,ram,CPU):\n",
    "        self.ram=ram\n",
    "        self.CPU=CPU\n",
    "    def config(self): \n",
    "        print(\"this config is \", self.CPU,self.ram)\n",
    "obj3=Computer(\"4G\",\"i4\")\n",
    "obj3.config()"
   ]
  },
  {
   "cell_type": "code",
   "execution_count": 62,
   "metadata": {},
   "outputs": [
    {
     "name": "stdout",
     "output_type": "stream",
     "text": [
      "2076255109416\n",
      "2076260108384\n"
     ]
    }
   ],
   "source": [
    "class Comp1:\n",
    "    pass\n",
    "c1=Comp1()\n",
    "c2=Comp1()\n",
    "print(id(c1))\n",
    "print(id(c2))    "
   ]
  },
  {
   "cell_type": "code",
   "execution_count": 64,
   "metadata": {},
   "outputs": [
    {
     "name": "stdout",
     "output_type": "stream",
     "text": [
      "Indu\n",
      "AO101701003\n",
      "36\n",
      "36\n",
      "Priya\n"
     ]
    }
   ],
   "source": [
    "class Hello:\n",
    "    def __init__(self):\n",
    "        self.name=\"Indu\"\n",
    "        self.no=36\n",
    "obj5=Hello()\n",
    "obj6=Hello()\n",
    "obj7=Hello()\n",
    "obj7.name=\"Priya\"\n",
    "obj6.no=\"AO101701003\"\n",
    "print(obj5.name)\n",
    "print(obj6.no)\n",
    "print(obj7.no)\n",
    "print(obj5.no)\n",
    "print(obj7.name)"
   ]
  },
  {
   "cell_type": "code",
   "execution_count": 66,
   "metadata": {},
   "outputs": [
    {
     "name": "stdout",
     "output_type": "stream",
     "text": [
      "Indu\n",
      "25\n",
      "Indu\n",
      "24\n",
      "None\n"
     ]
    }
   ],
   "source": [
    "class Hello:\n",
    "    def __init__(self):\n",
    "        self.name=\"Indu\"\n",
    "        self.age=25\n",
    "        \n",
    "        '''\n",
    "        In this Hello class I have only Update method\n",
    "        '''\n",
    "        # here doc is inside the function so it will not print show as none\n",
    "    def Update(self):\n",
    "            self.age=24\n",
    "obj9=Hello()\n",
    "obj10=Hello()\n",
    "print(obj9.name)\n",
    "print(obj9.age)\n",
    "\n",
    "obj9.Update()\n",
    "print(obj9.name)\n",
    "print(obj9.age)\n",
    "print(obj9.__doc__)"
   ]
  },
  {
   "cell_type": "code",
   "execution_count": 76,
   "metadata": {},
   "outputs": [
    {
     "name": "stdout",
     "output_type": "stream",
     "text": [
      "Indu\n",
      "25\n",
      "Indu\n",
      "24\n",
      "\n",
      "        In this Hello class I have only Update method   \n",
      "        \n"
     ]
    }
   ],
   "source": [
    "class Hello:\n",
    "    '''\n",
    "        In this Hello class I have only Update method   \n",
    "        '''\n",
    "    # here doc is out side the function so it will be print\n",
    "    def __init__(self):\n",
    "        self.name=\"Indu\"\n",
    "        self.age=25\n",
    "        \n",
    "        \n",
    "        \n",
    "    def Update(self):\n",
    "            self.age=24\n",
    "obj9=Hello()\n",
    "obj10=Hello()\n",
    "print(obj9.name)\n",
    "print(obj9.age)\n",
    "\n",
    "obj9.Update()\n",
    "print(obj9.name)\n",
    "print(obj9.age)\n",
    "print(obj9.__doc__)"
   ]
  }
 ],
 "metadata": {
  "kernelspec": {
   "display_name": "Python 3",
   "language": "python",
   "name": "python3"
  },
  "language_info": {
   "codemirror_mode": {
    "name": "ipython",
    "version": 3
   },
   "file_extension": ".py",
   "mimetype": "text/x-python",
   "name": "python",
   "nbconvert_exporter": "python",
   "pygments_lexer": "ipython3",
   "version": "3.7.3"
  }
 },
 "nbformat": 4,
 "nbformat_minor": 2
}
